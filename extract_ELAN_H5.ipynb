{
  "cells": [
    {
      "cell_type": "markdown",
      "metadata": {
        "id": "view-in-github",
        "colab_type": "text"
      },
      "source": [
        "<a href=\"https://colab.research.google.com/github/JosephBEAUREDER/FINE_TUNING_GESTURE/blob/main/extract_ELAN_H5.ipynb\" target=\"_parent\"><img src=\"https://colab.research.google.com/assets/colab-badge.svg\" alt=\"Open In Colab\"/></a>"
      ]
    },
    {
      "cell_type": "markdown",
      "metadata": {
        "id": "itYmnGaQxcJK"
      },
      "source": [
        "L'idée globale de ce colab est de :\n",
        "\n",
        "1.   Lire les fichiers .eaf avec les annotations\n",
        "2.   Manipuler ces annotations (pour faire des catégories plus aptes au Machine-Learning)\n",
        "2.   Faire des stats à partir de ces annotations\n",
        "3.   Retrouver le bon interval_ID pour chaque label\n",
        "\n",
        "5.   Mettre les labels dans un fichier .h5\n",
        "\n"
      ]
    },
    {
      "cell_type": "code",
      "source": [],
      "metadata": {
        "id": "bF2gJHJ5lhED"
      },
      "execution_count": null,
      "outputs": []
    },
    {
      "cell_type": "markdown",
      "metadata": {
        "id": "U4QeE6meJtnV"
      },
      "source": [
        "# Extraction et traitement des données des fichiers .eaf\n",
        "\n",
        "\n",
        "\n",
        "```\n",
        "input : .eaf files\n",
        "output : to_pickle = [[START, END, FILE_NAME, LABEL_MVMT_JOSEPH, LABEL_MVMT_CATHERINE, LABEL_HANDSHAPE_JOSEPH, LABEL_HANDSHAPE_CATHERINE, IMAGESCHEMA, DURATION], [...]]\n",
        "\n",
        "#   (Les valeurs de START et END sont en 15 frames par secondes par rapport au début de la vidéo youtube dont le label est issu)\n",
        "```\n",
        "\n"
      ]
    },
    {
      "cell_type": "code",
      "execution_count": null,
      "metadata": {
        "colab": {
          "base_uri": "https://localhost:8080/"
        },
        "id": "RtfsyeQ02J4E",
        "outputId": "df25bd29-cd46-4b32-b03f-8394053c9572"
      },
      "outputs": [
        {
          "output_type": "stream",
          "name": "stdout",
          "text": [
            "Drive already mounted at /content/drive; to attempt to forcibly remount, call drive.mount(\"/content/drive\", force_remount=True).\n",
            "/content/drive/MyDrive\n",
            "Requirement already satisfied: pympi-ling in /usr/local/lib/python3.10/dist-packages (1.70.2)\n"
          ]
        }
      ],
      "source": [
        "from google.colab import drive\n",
        "drive.mount('/content/drive')\n",
        "\n",
        "%cd /content/drive/MyDrive\n",
        "\n",
        "import os\n",
        "# os.chdir('/content')\n",
        "!pip install pympi-ling\n",
        "\n",
        "import pympi\n",
        "import glob\n",
        "from collections import Counter\n",
        "import csv\n",
        "import math\n",
        "import re\n",
        "import json"
      ]
    },
    {
      "cell_type": "code",
      "execution_count": null,
      "metadata": {
        "id": "T32JLSwT-WJj"
      },
      "outputs": [],
      "source": [
        "# fonction qui convertit les frames d'un framerate de 1000 à un framerate de 15\n",
        "\n",
        "def frame1000_to_frame15(frames: int) -> int:\n",
        "    return math.floor(frames * (15 / 1000))\n",
        "\n",
        "\n",
        "# fonction qui prend un fichier.eaf en entrée et retourne un tableau à 9 colonnes\n",
        "\n",
        "  ## input = eaf file\n",
        "\n",
        "  ## output = [[START,\n",
        "  #            END,\n",
        "  #            FILE_NAME,\n",
        "  #            LABEL_MVMT_JOSEPH,\n",
        "  #            LABEL_MVMT_CATHERINE,\n",
        "  #            LABEL_HANDSHAPE_JOSEPH,\n",
        "  #            LABEL_HANDSHAPE_CATHERINE,\n",
        "  #            IMAGESCHEMA,\n",
        "  #            DURATION]\n",
        "  #            ,\n",
        "  #           [...]\n",
        "  #            ]\n",
        "\n",
        "\n",
        "def extract_eaf(eaf_file_name):\n",
        "\n",
        "  eaf = pympi.Elan.Eaf(eaf_file_name)\n",
        "\n",
        "  data = eaf.get_annotation_data_for_tier('default')\n",
        "\n",
        "\n",
        "  ## on enlève le chemin et .eaf du nom du fichier\n",
        "  string = str(eaf_file_name)\n",
        "  match = re.search(r'(?<=/)[^/]+(?=\\.eaf)', string)\n",
        "  title_file = match.group()\n",
        "\n",
        "  # on prépare des tableaux pour traiter les labels\n",
        "  tab_labels = []\n",
        "  tab_start_end = []\n",
        "  to_pickle = []\n",
        "\n",
        "\n",
        "  for ligne in eaf.get_annotation_data_for_tier('default'):\n",
        "\n",
        "    ## we build the tab that will stock the start_time /  end_time of each label\n",
        "    start_time = frame1000_to_frame15(ligne[0])\n",
        "    end_time = frame1000_to_frame15(ligne[1])\n",
        "    tab_start_end.append([start_time,end_time])\n",
        "\n",
        "    ## On split l'annotation pour avoir un tableau de la forme --> [IS, DURATION, MOUVEMENT, HANDSHAPE]\n",
        "    tab_labels.append(ligne[2].split(\" \"))\n",
        "\n",
        "\n",
        "# On crée tous les tableaux pour stocker les LABELS\n",
        "  # tab_IS = [\"OBJECT\", \"CONTAINER\", \"OBJECT\", ...]\n",
        "  tab_IS = []\n",
        "\n",
        "  # tab_duration = [\"SHORT\", \"SHORT-HOLD\", \"MULTIPLE\", ...]\n",
        "  tab_duration = []\n",
        "\n",
        "  # tab_mvmt = [\"EMERGE\", \"DOWN\",...]\n",
        "  tab_mvmt = []\n",
        "  tab_mvmt_jo = []\n",
        "\n",
        "  # tab_handshape = [\"PYRAMID-DOWN, \"GRASP-UP\",...]\n",
        "  tab_handshape = []\n",
        "  tab_handshape_jo = []\n",
        "\n",
        "  for ligne in tab_labels:\n",
        "      try:\n",
        "          tab_IS.append(ligne[0])\n",
        "          tab_duration.append(ligne[1])\n",
        "          tab_mvmt_jo.append(ligne[2])\n",
        "          tab_mvmt.append(ligne[2])\n",
        "          tab_handshape_jo.append(ligne[3])\n",
        "          tab_handshape.append(ligne[3])\n",
        "\n",
        "      # si l'annotation n'est pas de la forme -->  [IS, DURATION, MOUVEMENT, HANDSHAPE]\n",
        "      #                                            (si l'annotation dans ELAN n'est pas de la forme \"a b c d\", avec des espaces entre chaque terme)\n",
        "      except IndexError:\n",
        "          print(eaf_file_name)\n",
        "          print(\"l'erreur se trouve à la ligne : \"+ str(ligne) + \"du fichier\" + str(eaf_file_name) + \"!\")\n",
        "\n",
        "\n",
        "  REPLACEMENTS_STROKE = [\n",
        "\n",
        "      (r\"^SHORT$\",\"ONE_STROKE\"),\n",
        "      (r\"^SHORT-HOLD$\",\"ONE_STROKE_HOLD\"),\n",
        "      (\"MULTIPLE\", \"MULTIPLE_STROKES\")\n",
        "       ]\n",
        "\n",
        "  for i in range(len(tab_duration)):\n",
        "    for old, new in REPLACEMENTS_STROKE:\n",
        "        tab_duration[i] = re.sub(old, new, tab_duration[i])\n",
        "\n",
        "\n",
        "  REPLACEMENTS_HANDS = [\n",
        "      (\"OBJECT\",\"ONE_HAND\"),\n",
        "      (\"CONTAINER\",\"TWO_HANDS\")\n",
        "  ]\n",
        "\n",
        "  for ligne in range(len(tab_IS)):\n",
        "      for old, new in REPLACEMENTS_HANDS:\n",
        "          tab_IS[ligne] = tab_IS[ligne].replace(old,new)\n",
        "\n",
        "\n",
        "    ## algo pour merge les différents labels de handshape en plus grosses catégories (RELAX, WRENCH/RING, FIST/GRASP ,PUOH)\n",
        "  REPLACEMENTS_HANDSHAPE = [\n",
        "\n",
        "  (\"WRENCH\", \"RING\"),\n",
        "\n",
        "  (\"PYRAMID-DOWN\", \"FIST\"),\n",
        "  (\"PYRAMID-INWARD\",\"FIST\"),\n",
        "  (\"GRASP-UP\", \"FIST\"),\n",
        "  (\"GRASP-DOWN\", \"FIST\"),\n",
        "  (\"GRASP-FRONT\", \"FIST\"),\n",
        "  (\"GRASP-SIDE\",\"FIST\"),\n",
        "\n",
        "\n",
        "  (\"INDEX-DOWN\",\"RELAX\"),\n",
        "  (\"INDEX-UP\", \"RELAX\"),\n",
        "\n",
        "  (\"MID-UP\", \"RELAX\"),\n",
        "  (\"MID-GRASP\",\"RELAX\"),\n",
        "  (\"MID-OPEN\", \"RELAX\"),\n",
        "  (\"GRASP-SMOOTH\",\"RELAX\"),\n",
        "  (\"INWARD\", \"RELAX\"),\n",
        "  (\"FORWARD\",\"RELAX\"),\n",
        "  (\"DOWNWARD\",\"RELAX\"),\n",
        "  (\"LIMIT\",\"RELAX\"),\n",
        "\n",
        "  (\"COUNTING\", \"RELAX\"),\n",
        "  (\"CONFRONT\",\"RELAX\"),\n",
        "\n",
        "  (\"PALM-FACE\",\"RELAX\"),\n",
        "  (\"STRAIGHT\", \"RELAX\"),\n",
        "  (\"PALM-DOWN\",\"RELAX\"),\n",
        "\n",
        "\n",
        "  (\"MID-DOWN\",\"PUOH\"),\n",
        "  ]\n",
        "\n",
        "  for ligne in range(len(tab_handshape)):\n",
        "      for old, new in REPLACEMENTS_HANDSHAPE:\n",
        "          tab_handshape[ligne] = tab_handshape[ligne].replace(old,new)\n",
        "\n",
        "\n",
        "  ## algo pour merge les différents labels de mouvements en plus grosses catégories ()\n",
        "  REPLACEMENTS_MOVEMENT = [\n",
        "\n",
        "  (\"OKAY\", \"IN-OUT_LARGE\"),\n",
        "  (r'^OPEN$',\"IN-OUT_LARGE\"),\n",
        "  (r'^QUESTION$', \"IN-OUT_LARGE\"),\n",
        "  (r'^UP$',\"OTHER\"),\n",
        "  (\"AGREE\",\"OTHER\"),\n",
        "  (\"ANY\",\"IN-OUT_LARGE\"),\n",
        "  (\"TURN-OUT\",\"IN-OUT_LARGE\"),\n",
        "\n",
        "\n",
        "  (\"SHRINK\", \"WRIST_ROTATION\"),\n",
        "  (\"EMERGE-IN\",\"WRIST_ROTATION\"),\n",
        "  (\"EXPAND\",\"WRIST_ROTATION\"),\n",
        "  (r'^REVERSE$', \"WRIST_ROTATION\"),\n",
        "  (\"REVERSE-UP\",\"WRIST_ROTATION\"),\n",
        "  (\"ROUND-IN\", \"WRIST_ROTATION\"),\n",
        "  (\"TABLE\",\"WRIST_ROTATION\"),\n",
        "  (\"ROUND\",\"WRIST_ROTATION\"),\n",
        "  (r\"^EMERGE$\",\"WRIST_ROTATION\"),\n",
        "  # this one is to be checked\n",
        "  (\"INOUT\",\"WRIST_ROTATION\"),\n",
        "  (\"QUESTION-SMALL\",\"WRIST_ROTATION\"),\n",
        "  (\"INSTANTIATE\",\"WRIST_ROTATION\"),\n",
        "  (r'^BLOSSOM$',\"WRIST_ROTATION\"),\n",
        "\n",
        "  (r'^UPDOWN$', \"DOWNWARD\"),\n",
        "  (r'^DOWN$', \"DOWNWARD\"),\n",
        "  (\"INWARD\",\"DOWNWARD\"),\n",
        "  (r'EMPHASE$',\"DOWNWARD\"),\n",
        "\n",
        "  (\"EMERGE-SIDE\",\"SIDE\"),\n",
        "  (r\"^BLOSSOM-SIDE$\",\"SIDE\"),\n",
        "  (\"RESPECT-SIDE\",\"SIDE\"),\n",
        "  (\"EMPHASE-SIDE\",\"SIDE\"),\n",
        "  (\"DOWN-SIDE\",\"SIDE\"),\n",
        "  (r\"^UP-SIDE$\",\"SIDE\"),\n",
        "\n",
        "  (\"MOULIN\",\"ANTI-PHASE\"),\n",
        "  (r\"^SORT$\",\"ANTI-PHASE\"),\n",
        "  (r\"DIFFERENCE\",\"ANTI-PHASE\"),\n",
        "\n",
        "  (\"CONFRONT\", \"OTHER\"),\n",
        "  (r'^FRONT$',\"OTHER\"),\n",
        "  (\"SORT-TWO-HANDS\",\"OTHER\"),\n",
        "  (\"NO-TWO-HANDS\",\"OTHER\"),\n",
        "  (\"COUNTING\",\"OTHER\"),\n",
        "  (r'^NO$',\"OTHER\"),\n",
        "  (\"SORT-ONE-HAND\", \"OTHER\"),\n",
        "  (\"THROW\",\"OTHER\"),\n",
        "  (\"TURN-IN\",\"OTHER\"),\n",
        "  (\"HOLD-UPDOWN\",\"OTHER\"),\n",
        "  (r'^RESPECT$',\"OTHER\"),\n",
        "  ]\n",
        "\n",
        "  for i in range(len(tab_mvmt)):\n",
        "    for old, new in REPLACEMENTS_MOVEMENT:\n",
        "        tab_mvmt[i] = re.sub(old, new, tab_mvmt[i])\n",
        "\n",
        "\n",
        "\n",
        "  # ici on .append tout dans la variable du 'to_pickle' du 'return'\n",
        "\n",
        "    start_time =  tab_start_end[i][0]\n",
        "    end_time = tab_start_end[i][1]\n",
        "    movement_joseph = tab_mvmt_jo[i]\n",
        "    movement_catherine = tab_mvmt[i]\n",
        "    handshape_joseph = tab_handshape_jo[i]\n",
        "    handshape_catherine = tab_handshape[i]\n",
        "    IS = tab_IS[i]\n",
        "    duration = tab_duration[i]\n",
        "\n",
        "    to_pickle.append([start_time, end_time, title_file, movement_joseph, movement_catherine, handshape_joseph, handshape_catherine, IS, duration])\n",
        "\n",
        "\n",
        "  return to_pickle\n"
      ]
    },
    {
      "cell_type": "markdown",
      "metadata": {
        "id": "XzZXi4a0ZGJ9"
      },
      "source": [
        "Maintenant qu'on a crée la fonction, on peut créer l'algo qui va lire tout le dossier avec les .eaf et stocker toute les valeurs nécessaires dans la variable 'to_pickle' qui est de la forme :\n"
      ]
    },
    {
      "cell_type": "code",
      "execution_count": null,
      "metadata": {
        "colab": {
          "base_uri": "https://localhost:8080/"
        },
        "id": "fq1UkbMnk7AT",
        "outputId": "d335a8c5-51e0-442c-8503-81daa6799554"
      },
      "outputs": [
        {
          "output_type": "stream",
          "name": "stdout",
          "text": [
            "[4076, 4090, '2B9b9mUPJik', 'EMPHASE', 'DOWNWARD', 'GRASP', 'GRASP', 'ONE_HAND', 'MULTIPLE_STROKES']\n",
            "1441\n"
          ]
        }
      ],
      "source": [
        "folderpath = \"EAF/ALL/\"\n",
        "\n",
        "files = [file for file in glob.glob(folderpath+\"*.eaf\")]\n",
        "to_pickle = []\n",
        "for elan_file_name in files:\n",
        "  data = extract_eaf(elan_file_name)\n",
        "  for i in range(len(data)):\n",
        "    to_pickle.append(data[i])\n",
        "\n",
        "# to_pickle = [[START, END, FILE_NAME, LABEL_MVMT_JOSEPH, LABEL_MVMT_CATHERINE, LABEL_HANDSHAPE_JOSEPH, LABEL_HANDSHAPE_CATHERINE, IMAGESCHEMA, DURATION], [...]]\n",
        "\n",
        "#   (Les valeurs de START et END sont en 15 frames par secondes par rapport au début de la vidéo youtube dont le label est issu)\n",
        "\n",
        "print(to_pickle[0])\n",
        "print(len(to_pickle))"
      ]
    },
    {
      "cell_type": "code",
      "execution_count": null,
      "metadata": {
        "id": "kAH0SFDi_csg"
      },
      "outputs": [],
      "source": [
        "# check if other labels than \"ONE_HAND\" or \"TWO_HANDS\"\n",
        "for i in to_pickle:\n",
        "  if i[4]== 'ANTI-PHASE' and i[7] == 'TWO_HANDS':\n",
        "    print(i)"
      ]
    },
    {
      "cell_type": "code",
      "source": [
        "sum = 0\n",
        "for i in to_pickle:\n",
        "  sum = sum + (i[1] - i[0])\n",
        "\n",
        "print(sum/1441)"
      ],
      "metadata": {
        "colab": {
          "base_uri": "https://localhost:8080/"
        },
        "id": "07DqEhXGrdcg",
        "outputId": "d8cf4019-deb1-43bd-c691-2cae8d8c77ed"
      },
      "execution_count": null,
      "outputs": [
        {
          "output_type": "stream",
          "name": "stdout",
          "text": [
            "21.51145038167939\n"
          ]
        }
      ]
    },
    {
      "cell_type": "markdown",
      "metadata": {
        "id": "z7TewiiyZrOe"
      },
      "source": [
        "# Statistiques (optionnel)\n",
        "\n"
      ]
    },
    {
      "cell_type": "markdown",
      "metadata": {
        "id": "Se2lM5JCHZ57"
      },
      "source": [
        " Ici les fonctions pour faire les stats :\n",
        "\n",
        "\n",
        "\n",
        "\n",
        " - stat_nb_label(tab)\n",
        "-     **input :**\n",
        "    - tab = liste des labels (tab_nb_hands or tab_mouvement_catherine)\n",
        "-  **output :**\n",
        "    - MOUVEMENT / Nombre d'apparition\n",
        "```\n",
        "print(stat_nb_label(tab_nb_hands))\n",
        "```\n",
        "\n",
        "- avg_diff(tab, label)\n",
        " -\n",
        "\n",
        "- histogram (tab, category of label)\n",
        "  - **Input :**\n",
        "    - tab = to_pickle\n",
        "    - category of label = \"nb_of_hands\" or \"movement_catherine\"\n",
        "  - **Output** = one histogram par label\n",
        "    - X axis = duration (in 15 frames/seconde)\n",
        "    - Y axis = Nb of labels\n",
        "```\n",
        "print(histogram(to_pickle, \"nb_of_hands\"))\n",
        "```"
      ]
    },
    {
      "cell_type": "markdown",
      "metadata": {
        "id": "iirNEyRKq7RV"
      },
      "source": [
        "## les fonctions :"
      ]
    },
    {
      "cell_type": "code",
      "execution_count": null,
      "metadata": {
        "colab": {
          "base_uri": "https://localhost:8080/"
        },
        "id": "cODbNuyGLu2L",
        "outputId": "9ca96c40-c62b-48f4-81a1-8f7d554fe5b9"
      },
      "outputs": [
        {
          "output_type": "stream",
          "name": "stdout",
          "text": [
            "EMPHASE\n",
            "1441\n"
          ]
        }
      ],
      "source": [
        "# on construit un tableau pour chaque label\n",
        "\n",
        "tab_strokes = [i[8] for i in to_pickle]\n",
        "tab_nb_hands = [i[7] for i in to_pickle]\n",
        "tab_mouvement_joseph = [i[3] for i in to_pickle]\n",
        "tab_mouvement_catherine = [i[4] for i in to_pickle]\n",
        "tab_handshape_joseph = [i[5] for i in to_pickle]\n",
        "tab_handshape_catherine = [i[6] for i in to_pickle]\n",
        "\n",
        "print(tab_mouvement_joseph[0])\n",
        "print(len(tab_mouvement_joseph))"
      ]
    },
    {
      "cell_type": "code",
      "execution_count": null,
      "metadata": {
        "colab": {
          "base_uri": "https://localhost:8080/"
        },
        "id": "VDJc5kq7JFlG",
        "outputId": "795078ae-a7e7-4b96-e197-c5868a99f24a"
      },
      "outputs": [
        {
          "output_type": "stream",
          "name": "stdout",
          "text": [
            "DOWNWARD 483\n",
            "on est sur du 33%\n",
            "WRIST_ROTATION 483\n",
            "on est sur du 33%\n",
            "OTHER 150\n",
            "on est sur du 10%\n",
            "SIDE 146\n",
            "on est sur du 10%\n",
            "ANTI-PHASE 69\n",
            "on est sur du 4%\n",
            "IN-OUT_LARGE 110\n",
            "on est sur du 7%\n",
            "Il y a 6 labels différents\n"
          ]
        }
      ],
      "source": [
        "## fonction pour compter le nombre de chaque label\n",
        "\n",
        "def stat_nb_label(tab):\n",
        "\n",
        "    ## input : un des tableaux de la cellule au dessus\n",
        "    ## output : MOUVEMENT / Nombre d'apparition\n",
        "    #           Nombre de labels différents\n",
        "\n",
        "\n",
        "  counter_tab = Counter(tab)\n",
        "  nb = 0\n",
        "  for key, value in counter_tab.items():\n",
        "    print(key, value)\n",
        "    nb += 1\n",
        "    print(\"on est sur du \"+str(int(value/len(tab)*100))+\"%\")\n",
        "  print(\"Il y a \"+str(nb)+ \" labels différents\")\n",
        "\n",
        "\n",
        "stat_nb_label(tab_mouvement_catherine)"
      ]
    },
    {
      "cell_type": "code",
      "execution_count": null,
      "metadata": {
        "id": "D2mhBwH2MPoU"
      },
      "outputs": [],
      "source": [
        "def avg_diff(tab, label):\n",
        "\n",
        "    ## input : tab (list) = le tableau a 7 colonnes 'to_pickle'\n",
        "    ##         label (string) = la catégorie dont on veut avoir les stats, à choisir entre :  \"movement_joseph\"  /  \"movement_catherine\"  /  \"handshape_joseph\"  /  \"handshape_catherine\"\n",
        "\n",
        "    ## output : dic de la forme : {'LABEL': average length (in millisecond), ...}\n",
        "\n",
        "\n",
        "  result = {}\n",
        "  for start, end, title, mvmt_jo, mvmt_cath, handshape_jo, handshape_cath in tab:\n",
        "      string = None\n",
        "      if label == \"movement_joseph\":\n",
        "          string = mvmt_jo\n",
        "      elif label == \"movement_catherine\":\n",
        "          string = mvmt_cath\n",
        "      elif label == \"handshape_joseph\":\n",
        "          string = handshape_jo\n",
        "      elif label == \"handshape_catherine\":\n",
        "            string = handshape_cath\n",
        "\n",
        "      else:\n",
        "        print(\"2nd arguement isn't valid, try : movement_joseph  or  movement_catherine or  handshape_joseph  or  handshape_catherine\")\n",
        "        break\n",
        "\n",
        "      if string not in result:\n",
        "          result[string] = []\n",
        "      result[string].append(end-start)\n",
        "  for key in result:\n",
        "      result[key] = sum(result[key])/len(result[key])\n",
        "  return result\n",
        "\n"
      ]
    },
    {
      "cell_type": "markdown",
      "metadata": {
        "id": "QerQ0whIaUGH"
      },
      "source": [
        "Maintenant on crée la fonction pour print les histogrammes :"
      ]
    },
    {
      "cell_type": "code",
      "execution_count": null,
      "metadata": {
        "id": "Y1f5KExiZqR4"
      },
      "outputs": [],
      "source": [
        "import numpy as np\n",
        "import matplotlib.pyplot as plt\n",
        "\n",
        "def histogram(tab, label):\n",
        "\n",
        "  ## input : tab(list) = to_pickle\n",
        "  ##         label (string) = la catégorie dont on veut avoir les stats, à choisir entre :  \"movement_joseph\"  /  \"movement_catherine\"  /  \"handshape_joseph\"  /  \"handshape_catherine\"\n",
        "\n",
        "  ## output : histogram de la répartition du temps de chacun des labels\n",
        "\n",
        "  if label == \"movement_joseph\":\n",
        "      nb = 3\n",
        "  elif label == \"nb_of_hands\":\n",
        "      nb = 7\n",
        "  elif label == \"movement_catherine\":\n",
        "      nb = 4\n",
        "  elif label == \"handshape_joseph\":\n",
        "      nb = 5\n",
        "  elif label == \"handshape_catherine\":\n",
        "        nb = 6\n",
        "\n",
        "  labels = [i[nb] for i in tab]\n",
        "  values = [row[1] - row[0] for row in tab]\n",
        "\n",
        "  unique_labels = np.unique(labels)\n",
        "\n",
        "  for label in unique_labels:\n",
        "      label_values = [values[i] for i in range(len(labels)) if labels[i] == label]\n",
        "      hist, bin_edges = np.histogram(label_values, bins=6)\n",
        "      plt.figure(figsize=(4, 2))\n",
        "      plt.bar(bin_edges[:-1], hist, width=np.diff(bin_edges))\n",
        "      plt.title(f'Histogram for label: {label}')\n",
        "      plt.xlabel('Timestep (Framerate = 15)')\n",
        "      plt.ylabel('Number of labels')\n",
        "      plt.tight_layout()\n",
        "      plt.show()"
      ]
    },
    {
      "cell_type": "code",
      "execution_count": null,
      "metadata": {
        "id": "go-G9ZEKQiCV"
      },
      "outputs": [],
      "source": [
        "# tab_mouvement_catherine_bis = [(i[1] - i[0],i[4]) for i in to_pickle]\n",
        "# tab_handshape_catherine_bis = [(i[1] - i[0],i[6]) for i in to_pickle]\n",
        "# tab_IS = [(i[1] - i[0],i[7]) for i in to_pickle]\n",
        "\n",
        "# total = 0\n",
        "# for i in tab_IS:\n",
        "#   total =  total + i[0]\n",
        "\n",
        "# mean_IS = total - len(tab_IS)\n",
        "\n",
        "# print(\"mean IS is \" + str(mean_IS))\n",
        "\n",
        "\n",
        "# total = 0\n",
        "\n",
        "# for i in tab_mouvement_catherine_bis:\n",
        "#   total =  total + i[0]\n",
        "\n",
        "# mean_mvmt = total/len(tab_IS)\n",
        "\n",
        "\n",
        "# print(\"mean mvmt is \" + str(mean_mvmt))\n",
        "# print(\"mean_m is\" + str(mean_m))"
      ]
    },
    {
      "cell_type": "code",
      "execution_count": null,
      "metadata": {
        "colab": {
          "base_uri": "https://localhost:8080/",
          "height": 450
        },
        "id": "KHiCyO8sZdh1",
        "outputId": "145c66d7-a7b7-4aaa-a2c5-1a24aceeb663"
      },
      "outputs": [
        {
          "output_type": "display_data",
          "data": {
            "text/plain": [
              "<Figure size 640x480 with 1 Axes>"
            ],
            "image/png": "[encoded data removed]"
          },
          "metadata": {}
        }
      ],
      "source": [
        "labels = ['IS', 'Mouvement']\n",
        "values = [21.49, 21.49]\n",
        "\n",
        "# Plotting histogram\n",
        "plt.bar(labels, values)\n",
        "\n",
        "# Adding labels to the axes\n",
        "plt.xlabel('Catégorie')\n",
        "plt.ylabel('Average duration (framerate 15)')\n",
        "\n",
        "# Display the plot\n",
        "plt.show()"
      ]
    },
    {
      "cell_type": "code",
      "execution_count": null,
      "metadata": {
        "id": "AHX-5TVxhqOz"
      },
      "outputs": [],
      "source": [
        "# import matplotlib.pyplot as plt\n",
        "# import numpy as np\n",
        "\n",
        "# tab = tab_mouvement_catherine_bis\n",
        "\n",
        "# # Extract labels and values\n",
        "# labels = list(set(entry[1] for entry in tab))\n",
        "# values = {label: [] for label in labels}\n",
        "# for entry in tab:\n",
        "#     values[entry[1]].append(entry[0])\n",
        "\n",
        "# # Calculate average values\n",
        "# avg_values = {label: np.mean(values[label]) for label in labels}\n",
        "\n",
        "# # Plotting histogram\n",
        "# plt.bar(avg_values.keys(), avg_values.values())\n",
        "\n",
        "# # Adding labels to the axes\n",
        "# plt.xlabel('Labels')\n",
        "# plt.ylabel('Average duration (framerate 15)')\n",
        "# plt.title(f'Histogram for Mouvement 2')\n",
        "\n",
        "# # Display the plot\n",
        "# plt.show()\n"
      ]
    },
    {
      "cell_type": "markdown",
      "metadata": {
        "id": "oLujOnevrJfk"
      },
      "source": [
        "## les prints"
      ]
    },
    {
      "cell_type": "code",
      "source": [
        "tab_strokes = [i[8] for i in to_pickle]\n",
        "tab_nb_hands = [i[7] for i in to_pickle]\n",
        "tab_mouvement_joseph = [i[3] for i in to_pickle]\n",
        "tab_mouvement_catherine = [i[4] for i in to_pickle]\n",
        "tab_handshape_joseph = [i[5] for i in to_pickle]\n",
        "tab_handshape_catherine = [i[6] for i in to_pickle]"
      ],
      "metadata": {
        "id": "8vsHi9iWouJ-"
      },
      "execution_count": null,
      "outputs": []
    },
    {
      "cell_type": "code",
      "execution_count": null,
      "metadata": {
        "colab": {
          "base_uri": "https://localhost:8080/"
        },
        "id": "pXqO6olMILE5",
        "outputId": "f03a0e51-719a-4b56-a2fc-0e934671f008"
      },
      "outputs": [
        {
          "output_type": "stream",
          "name": "stdout",
          "text": [
            "DOWNWARD 483\n",
            "on est sur du 33%\n",
            "WRIST_ROTATION 483\n",
            "on est sur du 33%\n",
            "OTHER 150\n",
            "on est sur du 10%\n",
            "SIDE 146\n",
            "on est sur du 10%\n",
            "ANTI-PHASE 69\n",
            "on est sur du 4%\n",
            "IN-OUT_LARGE 110\n",
            "on est sur du 7%\n",
            "Il y a 6 labels différents\n",
            "None\n"
          ]
        }
      ],
      "source": [
        "print(stat_nb_label(tab_mouvement_catherine))"
      ]
    },
    {
      "cell_type": "code",
      "execution_count": null,
      "metadata": {
        "id": "gLx2ZxhFrPGM"
      },
      "outputs": [],
      "source": [
        "print(histogram(to_pickle, \"nb_of_hands\"))"
      ]
    },
    {
      "cell_type": "code",
      "source": [
        "import matplotlib.pyplot as plt\n",
        "\n",
        "# Given data\n",
        "labels = ['DOWNWARD', 'WRIST_ROTATION', 'OTHER', 'SIDE', 'ANTI-PHASE', 'IN-OUT_LARGE']\n",
        "counts = [483, 483, 150, 146, 69, 110]\n",
        "\n",
        "# Create the histogram\n",
        "plt.bar(labels, counts)\n",
        "\n",
        "# Add labels and title\n",
        "plt.xlabel('Type of movement')\n",
        "plt.ylabel('Count')\n",
        "plt.title('Distribution of the category \"type of movement\"')\n",
        "\n",
        "# Rotate the x-axis labels for better readability\n",
        "plt.xticks(rotation=45)\n",
        "\n",
        "# Show the histogram\n",
        "plt.tight_layout()\n",
        "plt.show()"
      ],
      "metadata": {
        "colab": {
          "base_uri": "https://localhost:8080/",
          "height": 487
        },
        "id": "kAe_kE12n494",
        "outputId": "4a24c5f5-1fac-4b97-8302-07914c2eaf30"
      },
      "execution_count": null,
      "outputs": [
        {
          "output_type": "display_data",
          "data": {
            "text/plain": [
              "<Figure size 640x480 with 1 Axes>"
            ],
            "image/png": "[encoded data removed]"
          },
          "metadata": {}
        }
      ]
    },
    {
      "cell_type": "markdown",
      "metadata": {
        "id": "szTHEswOpRN3"
      },
      "source": [
        "\n",
        "# CSV"
      ]
    },
    {
      "cell_type": "markdown",
      "source": [
        "Maintenant que l'on possède le tableau avec tous les [start_time, end_time, label...], il faut savoir dans quel \"interval_id\" (sous-segment de la vidéo youtube) se situe chaque label, car c'est de cette manière que sont découpés les fichiers .h5 du PATS Dataset.\n",
        "\n",
        "Pour cela :\n",
        "*   On va lire le fichier \"cmu__intervals_df.csv\"\n",
        "*   On va formater les timecodes/dates\n",
        "*   On va convertir les timecodes en frames (framerate = 15)\n",
        "*   On va checker, en fonction de la vidéo, si le label se trouve dans chaque \"interval_id\", si c'est le cas, on ajoute l'interval_id à notre tableau dans un tableau final qui s'appellera \"to_pickle_final\""
      ],
      "metadata": {
        "id": "_bdr8B3oMpoU"
      }
    },
    {
      "cell_type": "markdown",
      "metadata": {
        "id": "aIPSRVm0tRMu"
      },
      "source": [
        "On lit le CSV :"
      ]
    },
    {
      "cell_type": "code",
      "execution_count": null,
      "metadata": {
        "colab": {
          "base_uri": "https://localhost:8080/"
        },
        "id": "i8RditZkyqkP",
        "outputId": "899ef635-f103-431f-9524-749dfc25140b"
      },
      "outputs": [
        {
          "output_type": "stream",
          "name": "stdout",
          "text": [
            "['dataset', 'delta_time', 'end_time', 'interval_id', 'speaker', 'start_time', 'video_fn', 'video_link']\n",
            "['train', '25.825826', '2019-06-07 00:13:07.420754', '120149', 'almaram', '2019-06-07 00:12:41.594928', 'Lessons_in_Fiqh_02-_How_to_do_wudu-iUGLu4BYH7s.mkv', 'http://www.youtube.com/watch?v=iUGLu4BYH7s']\n"
          ]
        }
      ],
      "source": [
        "CSV = []\n",
        "\n",
        "with open(\"CSV/cmu_intervals_df.csv\", mode='r') as file:\n",
        "    reader = csv.reader(file)\n",
        "    for row in reader:\n",
        "        CSV.append(row)\n",
        "\n",
        "print((CSV[0]))\n",
        "print((CSV[1]))"
      ]
    },
    {
      "cell_type": "code",
      "source": [
        "CSV[1][4]"
      ],
      "metadata": {
        "colab": {
          "base_uri": "https://localhost:8080/",
          "height": 35
        },
        "id": "MaqQvFBKhHTY",
        "outputId": "defee285-c622-4fbf-ec51-de722057508a"
      },
      "execution_count": null,
      "outputs": [
        {
          "output_type": "execute_result",
          "data": {
            "text/plain": [
              "'almaram'"
            ],
            "application/vnd.google.colaboratory.intrinsic+json": {
              "type": "string"
            }
          },
          "metadata": {},
          "execution_count": 12
        }
      ]
    },
    {
      "cell_type": "code",
      "source": [
        "summ = 0\n",
        "for i in range(1,len(CSV)):\n",
        "  if CSV[i][4] == 'lec_hist':\n",
        "    summ = summ + float(CSV[i][1])\n",
        "\n",
        "print(summ)"
      ],
      "metadata": {
        "colab": {
          "base_uri": "https://localhost:8080/"
        },
        "id": "1zW5l6XXiL5y",
        "outputId": "b3e09a9f-c384-40dd-cee7-a7e1ed1321d0"
      },
      "execution_count": null,
      "outputs": [
        {
          "output_type": "stream",
          "name": "stdout",
          "text": [
            "10505.933333333327\n"
          ]
        }
      ]
    },
    {
      "cell_type": "markdown",
      "metadata": {
        "id": "LLNX-Gud3M8F"
      },
      "source": [
        "Ensuite on crée un algo :\n",
        "\n",
        "* pour formater toutes les date sous le même format :\n",
        "2019-06-07 00:13:07.420754\n",
        "\n",
        "*   Et garder que les colonnes pertinentes\n",
        "\n",
        "Dans un nouveau tableau qui va s'appeler : newCSV = [[start, end, interval_id, video_fn],[...]]\n"
      ]
    },
    {
      "cell_type": "code",
      "execution_count": null,
      "metadata": {
        "colab": {
          "base_uri": "https://localhost:8080/"
        },
        "id": "KSc2G_j22DO-",
        "outputId": "8423d230-c59b-467d-d771-917679b795d9"
      },
      "outputs": [
        {
          "output_type": "stream",
          "name": "stdout",
          "text": [
            "['00:12:41.594', '00:13:07.420', '120149', 'Lessons_in_Fiqh_02-_How_to_do_wudu-iUGLu4BYH7s.mkv']\n"
          ]
        }
      ],
      "source": [
        "for i in range(len(CSV)):\n",
        "\n",
        "  ## le cas où le time s'affiche ainsi : 2019-09-26 00:02:54\n",
        "  if len(CSV[i][2]) == 19:\n",
        "    CSV[i][2]= CSV[i][2] + \".000000000\"\n",
        "  if len(CSV[i][5]) == 19:\n",
        "    CSV[i][5]= CSV[i][5] + \".000000000\"\n",
        "\n",
        "\n",
        "  ## le cas où le time s'affiche ainsi : 2019-09-26 00:00:22.500000\n",
        "  if len(CSV[i][2]) == 26:\n",
        "    CSV[i][2]= CSV[i][2] + \"000\"\n",
        "  if len(CSV[i][5]) == 26:\n",
        "    CSV[i][5]= CSV[i][5] + \"000\"\n",
        "\n",
        "\n",
        "  ## ensuite on cut les dates pour passer de ça : 2019-06-07 00:13:07.420754\n",
        "  ##                                            à ça : 00:13:07.420\n",
        "\n",
        "newCSV = []\n",
        "for a in range(1,len(CSV)):\n",
        "    newCSV.append( [CSV[a][5][11:23],CSV[a][2][11:23],CSV[a][3],CSV[a][6]])\n",
        "\n",
        "\n",
        "## newCSV = [start, end, interval_id, video_fn]\n",
        "print((newCSV[0]))\n"
      ]
    },
    {
      "cell_type": "code",
      "execution_count": null,
      "metadata": {
        "id": "3Xb_sw9ky8lN"
      },
      "outputs": [],
      "source": [
        "## function pour convertir les timecodes en frames\n",
        "\n",
        "def time_to_frames(time_string, frame_rate):\n",
        "    time_parts = time_string.split(':')\n",
        "    hours, minutes = map(int, time_parts[:2])\n",
        "    seconds = float(time_parts[2])\n",
        "    total_seconds = hours * 3600 + minutes * 60 + seconds\n",
        "    total_frames = int(total_seconds * frame_rate)\n",
        "    return total_frames"
      ]
    },
    {
      "cell_type": "code",
      "execution_count": null,
      "metadata": {
        "colab": {
          "base_uri": "https://localhost:8080/"
        },
        "id": "_uwJ_OwXzBer",
        "outputId": "63e78c4c-c1fa-4239-9ce7-6dc76cc944a7"
      },
      "outputs": [
        {
          "output_type": "stream",
          "name": "stdout",
          "text": [
            "[11423, 11811, '120149', 'Lessons_in_Fiqh_02-_How_to_do_wudu-iUGLu4BYH7s.mkv']\n"
          ]
        }
      ],
      "source": [
        "## algo pour changer les timecodes en frames (framerate = 15) sur le CSV\n",
        "\n",
        "## input : newCSV --> [START, END, Interval ID, video_title]\n",
        "## output : new_CSV_frames --> [START, END, Interval ID, video_title]\n",
        "\n",
        "new_CSV_frames = []\n",
        "for a in range(len(newCSV)):\n",
        "    x = time_to_frames(newCSV[a][0],15)\n",
        "    y = time_to_frames(newCSV[a][1],15)\n",
        "    new_CSV_frames.append([x,y, newCSV[a][2],newCSV[a][3]])\n",
        "\n",
        "print(new_CSV_frames[0])"
      ]
    },
    {
      "cell_type": "markdown",
      "metadata": {
        "id": "NJJ4mGIXMyAz"
      },
      "source": [
        "# Get interval_ID"
      ]
    },
    {
      "cell_type": "markdown",
      "source": [
        "Maintenant on crée l'algo qui va checker dans quel interval_ID le label se trouve en fonction :\n",
        "- du titre de la vidéo --> enregistré dans to_pickle[i][2]\n",
        "- du timestep du label --> début = to_pickle[0]    / fin = to_pickle[1]\n",
        "\n",
        "\n",
        "    - to_pickle_final[i][0] = start of label\n",
        "    - to_pickle_final[i][1] = end of label\n",
        "    - to_pickle_final[i][3] = label of movement\n",
        "    - to_pickle_final[i][6] = label of nb_of_hand\n",
        "    - to_pickle_final[i][8] = interval_ID\n",
        "\n",
        "\n",
        "```\n",
        "to_pickle_final = [[START ,END, LABEL_MVMT_JOSEPH, LABEL_MVMT_CATHERINE,LABEL_HANDSHAPE_JOSEPH, LABEL_HANDSHAPE_CATHERINE, nb_of_hands, DURATION,INTERVAL_ID] , [...]]\n",
        "```\n"
      ],
      "metadata": {
        "id": "2tdKdTvxMv6p"
      }
    },
    {
      "cell_type": "code",
      "execution_count": null,
      "metadata": {
        "id": "4v1DkGL9hP_V"
      },
      "outputs": [],
      "source": [
        "# l'algo qui, en fonction du titre de la vidéo, va checker dans quel interval_ID le label se trouve,\n",
        "# et va tout ajouter dans le tableau \"to_pickle_final\" qui ressemble à ça pour chaque label :\n",
        "\n",
        "  # to_pickle_final =\n",
        "\n",
        "  #           [[START ,\n",
        "  #            END,\n",
        "  #            LABEL_MVMT_JOSEPH,\n",
        "  #            LABEL_MVMT_CATHERINE,\n",
        "  #            LABEL_HANDSHAPE_JOSEPH,\n",
        "  #            LABEL_HANDSHAPE_CATHERINE,\n",
        "  #            IMAGESCHEMA,\n",
        "  #            DURATION,\n",
        "  #            INTERVAL_ID]\n",
        "  #            ,\n",
        "  #           [...]\n",
        "  #            ]\n",
        "\n",
        "to_pickle_final = []\n",
        "\n",
        "for i in range(len(to_pickle)):\n",
        "  pb = False\n",
        "  for j in range(len(new_CSV_frames)):\n",
        "    if to_pickle[i][2]==new_CSV_frames[j][3]:\n",
        "\n",
        "      lower_bound = new_CSV_frames[j][0]\n",
        "      upper_bound = new_CSV_frames[j][1]\n",
        "\n",
        "      if lower_bound <= to_pickle[i][0] <= upper_bound and lower_bound <= to_pickle[i][1] <= upper_bound:\n",
        "        to_pickle_final.append([to_pickle[i][0],to_pickle[i][1],to_pickle[i][3],to_pickle[i][4],to_pickle[i][5],to_pickle[i][6],to_pickle[i][7],to_pickle[i][8],new_CSV_frames[j][2]])\n",
        "      # print(\"ligne \"+ str(i) + \" we good1\")\n",
        "        pb = True\n",
        "  if pb == False:\n",
        "        print(\"on a un pb ligne :\" + str(i))\n",
        "        print(to_pickle[i])\n"
      ]
    },
    {
      "cell_type": "code",
      "execution_count": null,
      "metadata": {
        "id": "zqM7snaVJqGG"
      },
      "outputs": [],
      "source": [
        "# 2. on formate les valeurs de début/fin de 'to_pickle_final' en fonction de la scène (et non plus en fonction de la vidéo entière)\n",
        "\n",
        "for i in to_pickle_final:\n",
        "  for j in new_CSV_frames:\n",
        "    if i[8]==j[2]:\n",
        "      i[0]= i[0]-j[0]\n",
        "      i[1]= i[1]-j[0]"
      ]
    },
    {
      "cell_type": "code",
      "execution_count": null,
      "metadata": {
        "colab": {
          "base_uri": "https://localhost:8080/"
        },
        "id": "Qnvv86UQvZoC",
        "outputId": "59cbce26-6b15-4e6e-ba9a-e659a9fb17ed"
      },
      "outputs": [
        {
          "output_type": "stream",
          "name": "stdout",
          "text": [
            "[0, 14, 'EMPHASE', 'DOWNWARD', 'GRASP', 'GRASP', 'ONE_HAND', 'MULTIPLE_STROKES', 'cmu0000028893']\n"
          ]
        }
      ],
      "source": [
        "print(to_pickle_final[0])"
      ]
    },
    {
      "cell_type": "markdown",
      "metadata": {
        "id": "L-xaQxi6gm3I"
      },
      "source": [
        "# On crée la base de données\n"
      ]
    },
    {
      "cell_type": "markdown",
      "source": [
        "Avec en output un tableau de type :\n",
        "\n",
        "\n",
        "\n",
        "```\n",
        "POSE_of_label_X1 = toutes les séquences de POSE data correspondant à la durée du label X1\n",
        "\n",
        "label = le label associé\n",
        "\n",
        "end_tab = [\n",
        "           [[POSE_of_label_X1], [pose_of_label_X2], ...],\n",
        "            [X1, X2, ...]\n",
        "                          ]\n",
        "```\n"
      ],
      "metadata": {
        "id": "_i45U6fKM5yo"
      }
    },
    {
      "cell_type": "code",
      "execution_count": null,
      "metadata": {
        "id": "m0u796igr7EH",
        "colab": {
          "base_uri": "https://localhost:8080/"
        },
        "outputId": "91e327a2-c7be-4b7a-9965-679895f98242"
      },
      "outputs": [
        {
          "output_type": "stream",
          "name": "stdout",
          "text": [
            "\u001b[2K     \u001b[90m━━━━━━━━━━━━━━━━━━━━━━━━━━━━━━━━━━━━━━━━\u001b[0m \u001b[32m7.4/7.4 MB\u001b[0m \u001b[31m46.3 MB/s\u001b[0m eta \u001b[36m0:00:00\u001b[0m\n",
            "\u001b[2K     \u001b[90m━━━━━━━━━━━━━━━━━━━━━━━━━━━━━━━━━━━━━━\u001b[0m \u001b[32m268.8/268.8 kB\u001b[0m \u001b[31m30.8 MB/s\u001b[0m eta \u001b[36m0:00:00\u001b[0m\n",
            "\u001b[2K     \u001b[90m━━━━━━━━━━━━━━━━━━━━━━━━━━━━━━━━━━━━━━━━\u001b[0m \u001b[32m7.8/7.8 MB\u001b[0m \u001b[31m99.3 MB/s\u001b[0m eta \u001b[36m0:00:00\u001b[0m\n",
            "\u001b[2K     \u001b[90m━━━━━━━━━━━━━━━━━━━━━━━━━━━━━━━━━━━━━━━━\u001b[0m \u001b[32m1.3/1.3 MB\u001b[0m \u001b[31m74.8 MB/s\u001b[0m eta \u001b[36m0:00:00\u001b[0m\n",
            "\u001b[?25h"
          ]
        }
      ],
      "source": [
        "!pip install transformers --quiet\n",
        "!pip install tqdm --quiet\n",
        "!pip install nltk --quiet\n",
        "!pip install h5py --quiet\n",
        "!pip install pandas joblib --quiet\n",
        "from data import HDF5\n",
        "from data import Data\n",
        "from tqdm import tqdm\n",
        "import torch\n",
        "import numpy as np"
      ]
    },
    {
      "cell_type": "code",
      "execution_count": null,
      "metadata": {
        "id": "Pfgy9lWAZ57S"
      },
      "outputs": [],
      "source": [
        "def remove_fingers(pose):\n",
        "  # reshape pose\n",
        "  pose = np.reshape(pose, (pose.shape[0], 2, -1))\n",
        "  pose = torch.from_numpy(pose)\n",
        "\n",
        "  # remove fingers\n",
        "  pose_ = pose[:, :, 1:11]\n",
        "  pose = torch.cat((pose_, pose[:, :, 31:32]), dim=2)\n",
        "  pose = pose.reshape(pose.shape[0], 2, 11)\n",
        "\n",
        "\n",
        "# Uncomment these ligns if you want to keep only the wrists\n",
        "  # # on garde que les wrists\n",
        "  # indices = [1, 4]\n",
        "\n",
        "  # # Keep only the desired items using array indexing\n",
        "  # pose = pose[:, :, indices]\n",
        "\n",
        "  # pose = pose.reshape(len(pose),4)\n",
        "\n",
        "\n",
        "\n",
        "\n",
        "  # reshape and turn it into numpy array\n",
        "  pose = pose.reshape(len(pose), 22)\n",
        "  pose = pose.numpy()\n",
        "  return pose"
      ]
    },
    {
      "cell_type": "code",
      "source": [
        "data, h5 = HDF5.load('pats/data/processed/ALL/cmu0000030782.h5', key='pose/normalize')\n",
        "pose = data[()]\n",
        "\n",
        "# on enlève les données POSE des doigts\n",
        "pose = remove_fingers(pose)\n",
        "print(pose.shape)\n",
        "\n",
        "print(pose[0])"
      ],
      "metadata": {
        "colab": {
          "base_uri": "https://localhost:8080/"
        },
        "id": "Q5qrpYb6cXEF",
        "outputId": "7a82a297-fb8a-48cd-ba3d-9ee77d0d79e4"
      },
      "execution_count": null,
      "outputs": [
        {
          "output_type": "stream",
          "name": "stdout",
          "text": [
            "(101, 22)\n",
            "[-166.78261815 -233.12350946 -162.53611136  171.0433127   239.46434843\n",
            "  111.15457974  -23.49275382  -44.86170856    8.50610997  140.28860664\n",
            " -183.85377188   -8.518115    192.43191204  220.20391363    4.25196362\n",
            "  228.80606385  213.86416603 -151.83417213 -183.87014238 -183.86905101\n",
            "  217.54425364  217.74288233]\n"
          ]
        }
      ]
    },
    {
      "cell_type": "markdown",
      "metadata": {
        "id": "hHeRywxRHYdd"
      },
      "source": [
        "## Algo pour créer le tableau end_tab avec toutes les features/labels\n",
        "\n",
        "\n",
        "\n",
        "```\n",
        "end_tab = [ [[POSE_X1], [POSE_X2], ..., [POSE_XN]],\n",
        "            [label_hand_X1, label_hand_X2, ..., label_hand_XN],\n",
        "            [label_movement_X1, label_movement_X2, ..., label_movement_XN]\n",
        "          ]\n",
        "\n",
        "POSE = toutes les frames de POSE associées à la durée du label\n",
        "```\n",
        "\n"
      ]
    },
    {
      "cell_type": "code",
      "execution_count": null,
      "metadata": {
        "id": "nhorc4ukYPR_"
      },
      "outputs": [],
      "source": [
        "end_tab = []\n",
        "\n",
        "list_pose = []\n",
        "list_label_movement = []\n",
        "list_label_nb_of_hands = []\n",
        "\n",
        "cpt = 0\n",
        "\n",
        "for i in range(len(to_pickle_final)):\n",
        "\n",
        "  intervals_ID = to_pickle_final[i][8]\n",
        "  data, h5 = HDF5.load('pats/data/processed/ALL/'+intervals_ID+'.h5', key='pose/normalize')\n",
        "  pose = data[()]\n",
        "\n",
        "  # on enlève les données POSE des doigts\n",
        "  pose = remove_fingers(pose)\n",
        "\n",
        "  # on instantie le tableau qui va recueillir l'ensemble des frames de POSE pour 1 label\n",
        "  pose_of_one_label = []\n",
        "\n",
        "  start_label = to_pickle_final[i][0]\n",
        "  end_label = to_pickle_final[i][1]\n",
        "\n",
        "  label_of_movement = to_pickle_final[i][3]\n",
        "  nb_of_hands = to_pickle_final[i][6]\n",
        "\n",
        "# ici on définit la longueur maximale de la séquence, ici 30 frames (= 2 secondes)\n",
        "  max_len_sequence = 64\n",
        "  cpt = 0\n",
        "\n",
        "  # on met dans un tableau temporaire chaque frame de data POSE en fonction du début/fin du geste\n",
        "  for j in range(start_label, end_label):\n",
        "    if cpt <= max_len_sequence:\n",
        "\n",
        "      pose_of_one_label.append(pose[j])\n",
        "      cpt += 1\n",
        "\n",
        "\n",
        "  # on crée trois tableaux pour séparer les données dans le tableau final\n",
        "  list_pose.append(pose_of_one_label)\n",
        "  list_label_movement.append(label_of_movement)\n",
        "  list_label_nb_of_hands.append(nb_of_hands)\n",
        "\n",
        "end_tab.append(list_pose)\n",
        "end_tab.append(list_label_movement)\n",
        "end_tab.append(list_label_nb_of_hands)\n"
      ]
    },
    {
      "cell_type": "code",
      "source": [
        "print((end_tab[0][0][0]))"
      ],
      "metadata": {
        "colab": {
          "base_uri": "https://localhost:8080/"
        },
        "id": "SLYyAMYgK8ms",
        "outputId": "7ae3a937-0002-474f-cee5-5fb850d642bd"
      },
      "execution_count": null,
      "outputs": [
        {
          "output_type": "stream",
          "name": "stdout",
          "text": [
            "[-166.57451473 -246.37125035 -222.68566001  154.60552477  324.50707178\n",
            "  443.49270899  -32.27984551  -57.81976197   -3.48054759  463.63183557\n",
            " -239.48908112   11.91348159  237.9175007    98.54381662  -33.96677924\n",
            "   57.81282342  139.31297182  -96.84040385 -130.74473618 -130.91906712\n",
            "  155.58212497   72.77319354]\n"
          ]
        }
      ]
    },
    {
      "cell_type": "code",
      "execution_count": null,
      "metadata": {
        "id": "fIdVfYu1sG9-",
        "colab": {
          "base_uri": "https://localhost:8080/",
          "height": 228
        },
        "outputId": "7e9cddb6-ab14-407d-a67b-747791fb8727"
      },
      "outputs": [
        {
          "output_type": "error",
          "ename": "NameError",
          "evalue": "ignored",
          "traceback": [
            "\u001b[0;31m---------------------------------------------------------------------------\u001b[0m",
            "\u001b[0;31mNameError\u001b[0m                                 Traceback (most recent call last)",
            "\u001b[0;32m<ipython-input-6-71d8527e4671>\u001b[0m in \u001b[0;36m<cell line: 9>\u001b[0;34m()\u001b[0m\n\u001b[1;32m      7\u001b[0m \u001b[0mDATA_PATH\u001b[0m \u001b[0;34m=\u001b[0m \u001b[0;34m\"/content/drive/MyDrive/pickle\"\u001b[0m\u001b[0;34m\u001b[0m\u001b[0;34m\u001b[0m\u001b[0m\n\u001b[1;32m      8\u001b[0m \u001b[0moutfile\u001b[0m \u001b[0;34m=\u001b[0m \u001b[0mopen\u001b[0m\u001b[0;34m(\u001b[0m\u001b[0mDATA_PATH\u001b[0m\u001b[0;34m+\u001b[0m\u001b[0;34m'/'\u001b[0m\u001b[0;34m+\u001b[0m\u001b[0mname_of_file\u001b[0m\u001b[0;34m,\u001b[0m\u001b[0;34m'wb'\u001b[0m\u001b[0;34m)\u001b[0m\u001b[0;34m\u001b[0m\u001b[0;34m\u001b[0m\u001b[0m\n\u001b[0;32m----> 9\u001b[0;31m \u001b[0mpickle\u001b[0m\u001b[0;34m.\u001b[0m\u001b[0mdump\u001b[0m\u001b[0;34m(\u001b[0m\u001b[0mend_tab\u001b[0m\u001b[0;34m,\u001b[0m \u001b[0moutfile\u001b[0m\u001b[0;34m)\u001b[0m\u001b[0;34m\u001b[0m\u001b[0;34m\u001b[0m\u001b[0m\n\u001b[0m\u001b[1;32m     10\u001b[0m \u001b[0moutfile\u001b[0m\u001b[0;34m.\u001b[0m\u001b[0mclose\u001b[0m\u001b[0;34m(\u001b[0m\u001b[0;34m)\u001b[0m\u001b[0;34m\u001b[0m\u001b[0;34m\u001b[0m\u001b[0m\n",
            "\u001b[0;31mNameError\u001b[0m: name 'end_tab' is not defined"
          ]
        }
      ],
      "source": [
        "# on stocke toutes les données (features+labels) dans un pickle : data_ALL.pickle\n",
        "\n",
        "import pickle\n",
        "\n",
        "name_of_file = 'data_ALL.pickle'\n",
        "\n",
        "DATA_PATH = \"/content/drive/MyDrive/pickle\"\n",
        "outfile = open(DATA_PATH+'/'+name_of_file,'wb')\n",
        "pickle.dump(end_tab, outfile)\n",
        "outfile.close()"
      ]
    },
    {
      "cell_type": "markdown",
      "source": [
        "# Fonction pour plot les gestes\n"
      ],
      "metadata": {
        "id": "zIdQ5p3AD7qX"
      }
    },
    {
      "cell_type": "code",
      "source": [
        "import numpy as np\n",
        "import sys\n",
        "import math\n",
        "import matplotlib.pyplot as plt\n",
        "import torch\n",
        "import random\n",
        "import imageio\n",
        "import os\n",
        "import moviepy.editor as mp\n",
        "from scipy.interpolate import UnivariateSpline\n",
        "from scipy.signal import medfilt2d, medfilt\n",
        "import seaborn as sns\n",
        "from os import path\n",
        "from data import HDF5\n",
        "\n",
        "\n",
        "import sys\n",
        "from sklearn.preprocessing import OneHotEncoder\n",
        "import os\n",
        "# sys.path.insert(0, '/u/anasynth/fares/StyleEmbedding/11joints/')\n",
        "\n",
        "import pandas as pd\n",
        "from data import HDF5\n",
        "import torch\n",
        "import numpy as np\n",
        "import pickle\n",
        "from nltk.tokenize import sent_tokenize\n",
        "import nltk.data\n",
        "import os.path\n",
        "\n",
        "\n",
        "\n",
        "def generate_pose_animation(N, pose_gestures, fingers, with_neck):\n",
        "    \"\"\"\n",
        "    This functions renders 2D pose skeletons animation.\n",
        "    Inputs:\n",
        "\n",
        "    N: number of timesteps\n",
        "    pose_gestures: array of poses - shape ()\n",
        "    fingers: set fingers to True to plot fingers too; False otherwise.\n",
        "    with_neck: set it to True to plot the neck; False otherwise\n",
        "\n",
        "    Output: saves the 2D pose animation (.gif/.mp4)\n",
        "\n",
        "    \"\"\"\n",
        "\n",
        "    gestures = []\n",
        "    count=0\n",
        "    bone_list = get_bone_list(fingers)\n",
        "    gestures = pose_gestures\n",
        "    print(gestures.shape)\n",
        "    # set bones colors\n",
        "    colors = []\n",
        "    for bone in bone_list:\n",
        "        r = random.random()\n",
        "        b = random.random()\n",
        "        g = random.random()\n",
        "        color = (r, g, b)\n",
        "        colors.append(color)\n",
        "    filenames = []\n",
        "\n",
        "    for i in range(N):\n",
        "        print('plotting timestep ', i)\n",
        "        fig = plt.figure()\n",
        "        ax1 = fig.add_subplot(111)\n",
        "        skeleton_raw = gestures[i]\n",
        "\n",
        "        x1 = (skeleton_raw[0, :])\n",
        "        y1 = (-skeleton_raw[1, :])\n",
        "\n",
        "        neckX = ((float(x1[3]) + float(x1[0])) / float(2.0))\n",
        "        neckY = ((float(y1[3]) + float(y1[0])) / float(2.0))\n",
        "\n",
        "        x1 = np.append(x1, neckX)\n",
        "        y1 = np.append(y1, neckY)\n",
        "\n",
        "\n",
        "        for index, bone in enumerate(bone_list):\n",
        "            joint1_id = bone[0]\n",
        "            joint2_id = bone[1]\n",
        "            color_skeleton = colors[index]\n",
        "            if (joint1_id == -1 and joint2_id ==6) or (joint1_id == 6 and joint2_id ==7) or (joint1_id == 6 and joint2_id ==8):\n",
        "                ax1.plot([x1[joint1_id], x1[joint2_id]], [y1[joint1_id], y1[joint2_id]],  c='k', alpha=0.5, linewidth=5)\n",
        "            else:\n",
        "                ax1.plot([x1[joint1_id], x1[joint2_id]], [y1[joint1_id], y1[joint2_id]],  c=color_skeleton, linewidth=5)\n",
        "\n",
        "        # scatter joints\n",
        "        ax1.scatter(x1, y1, s=10, c='k', alpha=0.5, zorder=10)\n",
        "\n",
        "        # color left and right wrists\n",
        "        left_wrist_x = x1[5]\n",
        "        left_wrist_y = y1[5]\n",
        "        right_wrist_x = x1[2]\n",
        "        right_wrist_y = y1[2]\n",
        "        ax1.scatter(left_wrist_x, left_wrist_y, s=40, c='r', alpha=1, zorder=10)\n",
        "        ax1.scatter(right_wrist_x, right_wrist_y, s=40, c='b', alpha=1, zorder=10)\n",
        "\n",
        "        plt.axis('off')\n",
        "        plt.savefig('leo_paul_'+'timestep_'+str(i)+'.png')\n",
        "        plt.close()\n",
        "        filenames.append('leo_paul_'+'timestep_'+str(i)+'.png')\n",
        "\n",
        "\n",
        "    # build gif\n",
        "    fps=15\n",
        "    with imageio.get_writer('leo_paul.gif', mode='I', fps=fps, loop=1) as writer:\n",
        "        for filename in filenames:\n",
        "            image = imageio.imread(filename)\n",
        "            writer.append_data(image)\n",
        "    writer.close()\n",
        "\n",
        "    # Remove files\n",
        "    for filename in set(filenames):\n",
        "        os.remove(filename)\n",
        "\n",
        "    # convert to .mp4\n",
        "    clip = mp.VideoFileClip('leo_paul.gif')\n",
        "    clip.write_videofile('leo_paul.mp4')\n",
        "\n",
        "    # remove gif file\n",
        "    os.remove('leo_paul.gif')\n",
        "\n"
      ],
      "metadata": {
        "id": "QvdycAAtFMoi"
      },
      "execution_count": null,
      "outputs": []
    },
    {
      "cell_type": "markdown",
      "metadata": {
        "id": "NIdLU2hXZizv"
      },
      "source": [
        "# On crée le modèle de classification en LSTM"
      ]
    },
    {
      "cell_type": "markdown",
      "metadata": {
        "id": "ckBDsb9Ey5eK"
      },
      "source": [
        "## On importe les données (features/label)"
      ]
    },
    {
      "cell_type": "code",
      "execution_count": null,
      "metadata": {
        "colab": {
          "base_uri": "https://localhost:8080/",
          "height": 245
        },
        "id": "g2CGkS8hIEE6",
        "outputId": "9aabfc9e-6d9d-47a3-dd6d-b1b1a81617b9"
      },
      "outputs": [
        {
          "output_type": "stream",
          "name": "stdout",
          "text": [
            "Drive already mounted at /content/drive; to attempt to forcibly remount, call drive.mount(\"/content/drive\", force_remount=True).\n",
            "/content/drive/MyDrive\n"
          ]
        },
        {
          "output_type": "error",
          "ename": "EOFError",
          "evalue": "ignored",
          "traceback": [
            "\u001b[0;31m---------------------------------------------------------------------------\u001b[0m",
            "\u001b[0;31mEOFError\u001b[0m                                  Traceback (most recent call last)",
            "\u001b[0;32m<ipython-input-10-08e84e62e966>\u001b[0m in \u001b[0;36m<cell line: 12>\u001b[0;34m()\u001b[0m\n\u001b[1;32m     12\u001b[0m \u001b[0;32mwith\u001b[0m \u001b[0mopen\u001b[0m\u001b[0;34m(\u001b[0m\u001b[0mpickle_file_path\u001b[0m\u001b[0;34m,\u001b[0m \u001b[0;34m'rb'\u001b[0m\u001b[0;34m)\u001b[0m \u001b[0;32mas\u001b[0m \u001b[0mfile\u001b[0m\u001b[0;34m:\u001b[0m\u001b[0;34m\u001b[0m\u001b[0;34m\u001b[0m\u001b[0m\n\u001b[1;32m     13\u001b[0m     \u001b[0;31m# Load the contents of the pickle file\u001b[0m\u001b[0;34m\u001b[0m\u001b[0;34m\u001b[0m\u001b[0m\n\u001b[0;32m---> 14\u001b[0;31m     \u001b[0mend_tab\u001b[0m \u001b[0;34m=\u001b[0m \u001b[0mpickle\u001b[0m\u001b[0;34m.\u001b[0m\u001b[0mload\u001b[0m\u001b[0;34m(\u001b[0m\u001b[0mfile\u001b[0m\u001b[0;34m)\u001b[0m\u001b[0;34m\u001b[0m\u001b[0;34m\u001b[0m\u001b[0m\n\u001b[0m",
            "\u001b[0;31mEOFError\u001b[0m: Ran out of input"
          ]
        }
      ],
      "source": [
        "from google.colab import drive\n",
        "drive.mount('/content/drive')\n",
        "\n",
        "%cd /content/drive/MyDrive\n",
        "\n",
        "import pickle\n",
        "\n",
        "# Specify the path to your pickle file\n",
        "pickle_file_path = '/content/drive/MyDrive/pickle/data_ALL.pickle'\n",
        "\n",
        "# Open the pickle file in read mode\n",
        "with open(pickle_file_path, 'rb') as file:\n",
        "    # Load the contents of the pickle file\n",
        "    end_tab = pickle.load(file)"
      ]
    },
    {
      "cell_type": "code",
      "source": [
        "print(len(end_tab[0]))"
      ],
      "metadata": {
        "colab": {
          "base_uri": "https://localhost:8080/"
        },
        "id": "SxVxKdZTMOHx",
        "outputId": "97b7c13e-4257-482b-ac71-5581c655adf8"
      },
      "execution_count": null,
      "outputs": [
        {
          "output_type": "stream",
          "name": "stdout",
          "text": [
            "1441\n"
          ]
        }
      ]
    },
    {
      "cell_type": "markdown",
      "metadata": {
        "id": "6XXWRREfslyS"
      },
      "source": [
        "## On normalise les data :"
      ]
    },
    {
      "cell_type": "code",
      "source": [
        "# avant la normalisation\n",
        "print((end_tab[0][0][0]))"
      ],
      "metadata": {
        "colab": {
          "base_uri": "https://localhost:8080/"
        },
        "id": "q1os43O7YWtW",
        "outputId": "cdcf865f-b482-44b7-d2fb-c1de4d2c8cdc"
      },
      "execution_count": null,
      "outputs": [
        {
          "output_type": "stream",
          "name": "stdout",
          "text": [
            "[-166.57451473 -246.37125035 -222.68566001  154.60552477  324.50707178\n",
            "  443.49270899  -32.27984551  -57.81976197   -3.48054759  463.63183557\n",
            " -239.48908112   11.91348159  237.9175007    98.54381662  -33.96677924\n",
            "   57.81282342  139.31297182  -96.84040385 -130.74473618 -130.91906712\n",
            "  155.58212497   72.77319354]\n"
          ]
        }
      ]
    },
    {
      "cell_type": "code",
      "execution_count": null,
      "metadata": {
        "id": "o488xBvmpgjl"
      },
      "outputs": [],
      "source": [
        "from sklearn import preprocessing\n",
        "import numpy as np\n",
        "\n",
        "# Pour cela on est obligé de donner en input de la fonction .normalize une seule frame d'une séquence\n",
        "\n",
        "normalized_pose = []\n",
        "\n",
        "# pour chaque label\n",
        "for sequence in end_tab[0]:\n",
        "\n",
        "  # on instancie le tableau qui va recueillir les toutes les donneés POSE normalisée pour 1 label\n",
        "  normalized_pose_1_label = []\n",
        "\n",
        "  # pour chaque séquence de ce label\n",
        "  for frame in sequence:\n",
        "\n",
        "      x_array = frame\n",
        "\n",
        "      normalized_arr = preprocessing.normalize([x_array])\n",
        "\n",
        "      normalized_pose_1_label.append(normalized_arr)\n",
        "\n",
        "  normalized_pose.append(normalized_pose_1_label)"
      ]
    },
    {
      "cell_type": "code",
      "source": [
        "# après la normalisation\n",
        "print(normalized_pose[0][0])"
      ],
      "metadata": {
        "colab": {
          "base_uri": "https://localhost:8080/"
        },
        "id": "bsBeQuOjkkRN",
        "outputId": "d238c127-e062-41bb-e9cb-01c74e24a1b9"
      },
      "execution_count": null,
      "outputs": [
        {
          "output_type": "stream",
          "name": "stdout",
          "text": [
            "[[-0.17518536 -0.25910708 -0.23419709  0.16259765  0.34128202  0.46641846\n",
            "  -0.03394851 -0.06080868 -0.00366047  0.48759865 -0.25186914  0.01252933\n",
            "   0.25021632  0.1036379  -0.03572265  0.06080138  0.14651457 -0.10184644\n",
            "  -0.13750341 -0.13768675  0.16362473  0.0765351 ]]\n"
          ]
        }
      ]
    },
    {
      "cell_type": "markdown",
      "source": [
        "## On padd les données pour que toutes les séquences soient égales à 64"
      ],
      "metadata": {
        "id": "_b7e31PHj5YV"
      }
    },
    {
      "cell_type": "code",
      "source": [
        "from tensorflow.keras.preprocessing.sequence import pad_sequences\n",
        "import numpy as np\n",
        "\n",
        "# Convert to NumPy array\n",
        "normalized_pose = np.array(normalized_pose, dtype=object)\n",
        "\n",
        "# Pad the second dimension to length 64\n",
        "features = pad_sequences(normalized_pose, maxlen=64, dtype='float32', padding='post', value=np.zeros(22))\n",
        "\n",
        "features = np.squeeze(features)\n",
        "\n",
        "print(features.shape)"
      ],
      "metadata": {
        "colab": {
          "base_uri": "https://localhost:8080/"
        },
        "id": "gWrIqA-6jWIP",
        "outputId": "2952293e-0162-43ac-895a-43c450d0c5a6"
      },
      "execution_count": null,
      "outputs": [
        {
          "output_type": "stream",
          "name": "stdout",
          "text": [
            "(1441, 64, 22)\n"
          ]
        }
      ]
    },
    {
      "cell_type": "markdown",
      "source": [
        "## Et on crée le mask"
      ],
      "metadata": {
        "id": "rkxPS2GauFbq"
      }
    },
    {
      "cell_type": "code",
      "source": [
        "# Create a mask for the padded sequences\n",
        "mask = np.not_equal(features, 0).astype('float32')\n",
        "\n",
        "print(mask.shape)"
      ],
      "metadata": {
        "colab": {
          "base_uri": "https://localhost:8080/"
        },
        "id": "DAWxhN2MuH0q",
        "outputId": "9df52b08-27ac-4f3f-a2cb-639f651ef74c"
      },
      "execution_count": null,
      "outputs": [
        {
          "output_type": "stream",
          "name": "stdout",
          "text": [
            "(1441, 64, 22)\n"
          ]
        }
      ]
    },
    {
      "cell_type": "markdown",
      "metadata": {
        "id": "GEo7vezvBdJ3"
      },
      "source": [
        "## On encode les labels\n",
        "\n",
        "\n"
      ]
    },
    {
      "cell_type": "code",
      "execution_count": null,
      "metadata": {
        "colab": {
          "base_uri": "https://localhost:8080/"
        },
        "id": "zOYy6oJfSkHo",
        "outputId": "8e41741b-ebe1-4758-cabd-c28d0d2e43d8"
      },
      "outputs": [
        {
          "output_type": "stream",
          "name": "stdout",
          "text": [
            "(1441,)\n",
            "0\n",
            "1\n",
            "1\n",
            "0\n",
            "1\n"
          ]
        }
      ],
      "source": [
        "from sklearn.preprocessing import LabelEncoder\n",
        "from keras.utils import to_categorical\n",
        "\n",
        "# on récupère le tableau\n",
        "labels_nb_hands = np.array(end_tab[2])\n",
        "\n",
        "# Convert labels to integers\n",
        "label_encoder = LabelEncoder()\n",
        "labels_nb_hands = label_encoder.fit_transform(labels_nb_hands)\n",
        "\n",
        "# Check the shape of the encoded labels\n",
        "print(labels_nb_hands.shape)\n",
        "for i in range(5):\n",
        "  print(labels_nb_hands[i])"
      ]
    },
    {
      "cell_type": "markdown",
      "source": [
        "# On crée l'autoencoder (en cours)"
      ],
      "metadata": {
        "id": "Kxp6DN6gZjP1"
      }
    },
    {
      "cell_type": "code",
      "source": [
        "# ici l'encoder\n",
        "\n",
        "from tensorflow.keras.models import Sequential\n",
        "from tensorflow.keras.layers import LSTM\n",
        "\n",
        "encoder = Sequential()\n",
        "encoder.add(LSTM(256, input_shape=(64, 22)))\n"
      ],
      "metadata": {
        "id": "YynE_3ICZpJk"
      },
      "execution_count": null,
      "outputs": []
    },
    {
      "cell_type": "code",
      "source": [
        "# ici le decoder\n",
        "\n",
        "from tensorflow.keras.layers import RepeatVector\n",
        "\n",
        "# Add RepeatVector layer to match the encoder output shape\n",
        "encoder_output_shape = encoder.output_shape[1:]  # Extract the shape of the encoder output\n",
        "decoder = Sequential()\n",
        "decoder.add(RepeatVector(encoder_output_shape[0]))\n",
        "\n",
        "# Add LSTM layers to the decoder\n",
        "decoder.add(LSTM(256, return_sequences=True))  # Adjust the number of LSTM layers as needed\n",
        "# Add more LSTM layers if needed\n",
        "\n",
        "# Add a Dense layer for output reconstruction\n",
        "decoder.add(Dense(input_dim, activation='sigmoid'))"
      ],
      "metadata": {
        "id": "jqwjAOZbZnw8"
      },
      "execution_count": null,
      "outputs": []
    },
    {
      "cell_type": "markdown",
      "source": [
        "# On reprend le modèle"
      ],
      "metadata": {
        "id": "rT6H65rFkMbF"
      }
    },
    {
      "cell_type": "markdown",
      "metadata": {
        "id": "qqLT6yKB7WBF"
      },
      "source": [
        "##  On shuffle les data :"
      ]
    },
    {
      "cell_type": "code",
      "execution_count": null,
      "metadata": {
        "id": "YJ-u60ds7VKf"
      },
      "outputs": [],
      "source": [
        "# import random\n",
        "\n",
        "# # on utilise la fonction zip pour pairer les labels/features\n",
        "# shuffled_data = list(zip(features, labels_nb_hands))\n",
        "\n",
        "# # puis on shuffle\n",
        "# random.shuffle(shuffled_data)\n",
        "\n",
        "# # puis on unzip\n",
        "# features, labels_nb_hands = zip(*shuffled_data)"
      ]
    },
    {
      "cell_type": "markdown",
      "metadata": {
        "id": "yOpcqXJou7T2"
      },
      "source": [
        "##  On divise les données en train/test :"
      ]
    },
    {
      "cell_type": "code",
      "execution_count": null,
      "metadata": {
        "id": "B9rI5Av4txvu"
      },
      "outputs": [],
      "source": [
        "from sklearn.model_selection import train_test_split\n",
        "\n",
        "X_train, X_test, y_train, y_test = train_test_split(features, labels_nb_hands, test_size=0.10, random_state=42)\n",
        "\n",
        "# X_train, features, y_train, labels_nb_hands = train_test_split(X_train, y_train, test_size=0.1765, random_state=42)\n",
        "\n",
        "\n",
        "# Convert to numpy arrays\n",
        "X_train = np.array(X_train)\n",
        "X_test = np.array(X_test)\n",
        "\n",
        "# Create mask arrays\n",
        "mask_train = np.sum(X_train != 0, axis=-1, keepdims=True).astype('float32')\n",
        "mask_test = np.sum(X_test != 0, axis=-1, keepdims=True).astype('float32')\n",
        "\n",
        "y_train = np.array(y_train)\n",
        "y_test = np.array(y_test)\n",
        "\n",
        "y_train = np.reshape(y_train, (-1, 1))\n",
        "y_test = np.reshape(y_test, (-1, 1))"
      ]
    },
    {
      "cell_type": "code",
      "source": [
        "X_train.shape"
      ],
      "metadata": {
        "colab": {
          "base_uri": "https://localhost:8080/"
        },
        "id": "7an2uXqlBcVz",
        "outputId": "bd26646f-3482-4100-d024-a160c3a990c2"
      },
      "execution_count": null,
      "outputs": [
        {
          "output_type": "execute_result",
          "data": {
            "text/plain": [
              "(1296, 64, 22)"
            ]
          },
          "metadata": {},
          "execution_count": 11
        }
      ]
    },
    {
      "cell_type": "markdown",
      "metadata": {
        "id": "Zjo1eYh4YfIA"
      },
      "source": [
        "## On définit l'architecture du modèle LSTM"
      ]
    },
    {
      "cell_type": "code",
      "execution_count": null,
      "metadata": {
        "id": "gfqiDNb7YW_t"
      },
      "outputs": [],
      "source": [
        "from tensorflow.keras.models import Sequential\n",
        "from tensorflow.keras.layers import LSTM, Dense\n",
        "from keras.layers import Bidirectional\n",
        "import tensorflow as tf"
      ]
    },
    {
      "cell_type": "code",
      "source": [
        "tf.keras.backend.clear_session()"
      ],
      "metadata": {
        "id": "LGbmo9985SHs"
      },
      "execution_count": null,
      "outputs": []
    },
    {
      "cell_type": "code",
      "source": [
        "# callback = tf.keras.callbacks.EarlyStopping(monitor='loss', patience=3)\n"
      ],
      "metadata": {
        "id": "vbSEq8rk6q5n"
      },
      "execution_count": null,
      "outputs": []
    },
    {
      "cell_type": "code",
      "execution_count": null,
      "metadata": {
        "colab": {
          "base_uri": "https://localhost:8080/",
          "height": 1000
        },
        "id": "uyZeb6NzYc47",
        "outputId": "c7d18711-973d-4430-d2f6-437aea12a4aa"
      },
      "outputs": [
        {
          "output_type": "stream",
          "name": "stdout",
          "text": [
            "Model: \"sequential_11\"\n",
            "_________________________________________________________________\n",
            " Layer (type)                Output Shape              Param #   \n",
            "=================================================================\n",
            " masking_3 (Masking)         (None, 64, 22)            0         \n",
            "                                                                 \n",
            " lstm_27 (LSTM)              (None, 64, 128)           77312     \n",
            "                                                                 \n",
            " lstm_28 (LSTM)              (None, 64, 128)           131584    \n",
            "                                                                 \n",
            " lstm_29 (LSTM)              (None, 64, 128)           131584    \n",
            "                                                                 \n",
            " dense_9 (Dense)             (None, 64, 1)             129       \n",
            "                                                                 \n",
            "=================================================================\n",
            "Total params: 340,609\n",
            "Trainable params: 340,609\n",
            "Non-trainable params: 0\n",
            "_________________________________________________________________\n",
            "Epoch 1/300\n"
          ]
        },
        {
          "output_type": "error",
          "ename": "ValueError",
          "evalue": "ignored",
          "traceback": [
            "\u001b[0;31m---------------------------------------------------------------------------\u001b[0m",
            "\u001b[0;31mValueError\u001b[0m                                Traceback (most recent call last)",
            "\u001b[0;32m<ipython-input-30-ee884e3af838>\u001b[0m in \u001b[0;36m<cell line: 42>\u001b[0;34m()\u001b[0m\n\u001b[1;32m     40\u001b[0m \u001b[0;34m\u001b[0m\u001b[0m\n\u001b[1;32m     41\u001b[0m \u001b[0;31m# Train your model\u001b[0m\u001b[0;34m\u001b[0m\u001b[0;34m\u001b[0m\u001b[0m\n\u001b[0;32m---> 42\u001b[0;31m \u001b[0mmodel\u001b[0m\u001b[0;34m.\u001b[0m\u001b[0mfit\u001b[0m\u001b[0;34m(\u001b[0m\u001b[0mX_train\u001b[0m\u001b[0;34m,\u001b[0m \u001b[0my_train\u001b[0m\u001b[0;34m,\u001b[0m \u001b[0mvalidation_data\u001b[0m\u001b[0;34m=\u001b[0m\u001b[0;34m(\u001b[0m\u001b[0mX_test\u001b[0m\u001b[0;34m,\u001b[0m \u001b[0my_test\u001b[0m\u001b[0;34m)\u001b[0m\u001b[0;34m,\u001b[0m \u001b[0mepochs\u001b[0m\u001b[0;34m=\u001b[0m\u001b[0;36m300\u001b[0m\u001b[0;34m,\u001b[0m \u001b[0mbatch_size\u001b[0m\u001b[0;34m=\u001b[0m\u001b[0;36m16\u001b[0m\u001b[0;34m)\u001b[0m\u001b[0;34m\u001b[0m\u001b[0;34m\u001b[0m\u001b[0m\n\u001b[0m\u001b[1;32m     43\u001b[0m \u001b[0;31m#, sample_weight=mask_train\u001b[0m\u001b[0;34m\u001b[0m\u001b[0;34m\u001b[0m\u001b[0m\n",
            "\u001b[0;32m/usr/local/lib/python3.10/dist-packages/keras/utils/traceback_utils.py\u001b[0m in \u001b[0;36merror_handler\u001b[0;34m(*args, **kwargs)\u001b[0m\n\u001b[1;32m     68\u001b[0m             \u001b[0;31m# To get the full stack trace, call:\u001b[0m\u001b[0;34m\u001b[0m\u001b[0;34m\u001b[0m\u001b[0m\n\u001b[1;32m     69\u001b[0m             \u001b[0;31m# `tf.debugging.disable_traceback_filtering()`\u001b[0m\u001b[0;34m\u001b[0m\u001b[0;34m\u001b[0m\u001b[0m\n\u001b[0;32m---> 70\u001b[0;31m             \u001b[0;32mraise\u001b[0m \u001b[0me\u001b[0m\u001b[0;34m.\u001b[0m\u001b[0mwith_traceback\u001b[0m\u001b[0;34m(\u001b[0m\u001b[0mfiltered_tb\u001b[0m\u001b[0;34m)\u001b[0m \u001b[0;32mfrom\u001b[0m \u001b[0;32mNone\u001b[0m\u001b[0;34m\u001b[0m\u001b[0;34m\u001b[0m\u001b[0m\n\u001b[0m\u001b[1;32m     71\u001b[0m         \u001b[0;32mfinally\u001b[0m\u001b[0;34m:\u001b[0m\u001b[0;34m\u001b[0m\u001b[0;34m\u001b[0m\u001b[0m\n\u001b[1;32m     72\u001b[0m             \u001b[0;32mdel\u001b[0m \u001b[0mfiltered_tb\u001b[0m\u001b[0;34m\u001b[0m\u001b[0;34m\u001b[0m\u001b[0m\n",
            "\u001b[0;32m/usr/local/lib/python3.10/dist-packages/keras/engine/training.py\u001b[0m in \u001b[0;36mtf__train_function\u001b[0;34m(iterator)\u001b[0m\n\u001b[1;32m     13\u001b[0m                 \u001b[0;32mtry\u001b[0m\u001b[0;34m:\u001b[0m\u001b[0;34m\u001b[0m\u001b[0;34m\u001b[0m\u001b[0m\n\u001b[1;32m     14\u001b[0m                     \u001b[0mdo_return\u001b[0m \u001b[0;34m=\u001b[0m \u001b[0;32mTrue\u001b[0m\u001b[0;34m\u001b[0m\u001b[0;34m\u001b[0m\u001b[0m\n\u001b[0;32m---> 15\u001b[0;31m                     \u001b[0mretval_\u001b[0m \u001b[0;34m=\u001b[0m \u001b[0mag__\u001b[0m\u001b[0;34m.\u001b[0m\u001b[0mconverted_call\u001b[0m\u001b[0;34m(\u001b[0m\u001b[0mag__\u001b[0m\u001b[0;34m.\u001b[0m\u001b[0mld\u001b[0m\u001b[0;34m(\u001b[0m\u001b[0mstep_function\u001b[0m\u001b[0;34m)\u001b[0m\u001b[0;34m,\u001b[0m \u001b[0;34m(\u001b[0m\u001b[0mag__\u001b[0m\u001b[0;34m.\u001b[0m\u001b[0mld\u001b[0m\u001b[0;34m(\u001b[0m\u001b[0mself\u001b[0m\u001b[0;34m)\u001b[0m\u001b[0;34m,\u001b[0m \u001b[0mag__\u001b[0m\u001b[0;34m.\u001b[0m\u001b[0mld\u001b[0m\u001b[0;34m(\u001b[0m\u001b[0miterator\u001b[0m\u001b[0;34m)\u001b[0m\u001b[0;34m)\u001b[0m\u001b[0;34m,\u001b[0m \u001b[0;32mNone\u001b[0m\u001b[0;34m,\u001b[0m \u001b[0mfscope\u001b[0m\u001b[0;34m)\u001b[0m\u001b[0;34m\u001b[0m\u001b[0;34m\u001b[0m\u001b[0m\n\u001b[0m\u001b[1;32m     16\u001b[0m                 \u001b[0;32mexcept\u001b[0m\u001b[0;34m:\u001b[0m\u001b[0;34m\u001b[0m\u001b[0;34m\u001b[0m\u001b[0m\n\u001b[1;32m     17\u001b[0m                     \u001b[0mdo_return\u001b[0m \u001b[0;34m=\u001b[0m \u001b[0;32mFalse\u001b[0m\u001b[0;34m\u001b[0m\u001b[0;34m\u001b[0m\u001b[0m\n",
            "\u001b[0;31mValueError\u001b[0m: in user code:\n\n    File \"/usr/local/lib/python3.10/dist-packages/keras/engine/training.py\", line 1284, in train_function  *\n        return step_function(self, iterator)\n    File \"/usr/local/lib/python3.10/dist-packages/keras/engine/training.py\", line 1268, in step_function  **\n        outputs = model.distribute_strategy.run(run_step, args=(data,))\n    File \"/usr/local/lib/python3.10/dist-packages/keras/engine/training.py\", line 1249, in run_step  **\n        outputs = model.train_step(data)\n    File \"/usr/local/lib/python3.10/dist-packages/keras/engine/training.py\", line 1051, in train_step\n        loss = self.compute_loss(x, y, y_pred, sample_weight)\n    File \"/usr/local/lib/python3.10/dist-packages/keras/engine/training.py\", line 1109, in compute_loss\n        return self.compiled_loss(\n    File \"/usr/local/lib/python3.10/dist-packages/keras/engine/compile_utils.py\", line 265, in __call__\n        loss_value = loss_obj(y_t, y_p, sample_weight=sw)\n    File \"/usr/local/lib/python3.10/dist-packages/keras/losses.py\", line 160, in __call__\n        return losses_utils.compute_weighted_loss(\n    File \"/usr/local/lib/python3.10/dist-packages/keras/utils/losses_utils.py\", line 350, in compute_weighted_loss\n        ) = squeeze_or_expand_dimensions(losses, None, sample_weight)\n    File \"/usr/local/lib/python3.10/dist-packages/keras/utils/losses_utils.py\", line 224, in squeeze_or_expand_dimensions\n        sample_weight = tf.squeeze(sample_weight, [-1])\n\n    ValueError: Can not squeeze dim[1], expected a dimension of 1, got 64 for '{{node binary_crossentropy/weighted_loss/Squeeze}} = Squeeze[T=DT_FLOAT, squeeze_dims=[-1]](binary_crossentropy/mul_3)' with input shapes: [16,64].\n"
          ]
        }
      ],
      "source": [
        "# # Clear TensorFlow session\n",
        "# tf.keras.backend.clear_session()\n",
        "\n",
        "max_seq_length = 64\n",
        "nb_features = len(end_tab[0][0][0])\n",
        "\n",
        "model = Sequential()\n",
        "\n",
        "#\n",
        "\n",
        "# model.add(tf.keras.layers.Masking(mask_value=0., input_shape=(64, nb_features)))\n",
        "model.add(tf.keras.layers.Masking(mask_value=0., input_shape=(64, nb_features)))\n",
        "\n",
        "\n",
        "model.add(LSTM(units=128, input_shape=(max_seq_length, nb_features), return_sequences=True))\n",
        "\n",
        "model.add(LSTM(units=128, input_shape=(max_seq_length, nb_features), return_sequences=True))\n",
        "\n",
        "model.add(LSTM(units=128, input_shape=(max_seq_length, nb_features), return_sequences=True))\n",
        "\n",
        "\n",
        "\n",
        "\n",
        "# model.add(LSTM(units=64, input_shape=(max_seq_length, nb_features), return_sequences=False))\n",
        "\n",
        "# model.add(LSTM(units=150, input_shape=(max_seq_length, nb_features), return_sequences=True))\n",
        "\n",
        "# model.add(LSTM(units=150, input_shape=(max_seq_length, nb_features), return_sequences=True))\n",
        "\n",
        "\n",
        "# Add a fully connected layer for output\n",
        "model.add(Dense(units=1, activation='sigmoid'))\n",
        "\n",
        "model.compile(optimizer='adam', loss='binary_crossentropy', metrics=['accuracy'])\n",
        "\n",
        "model.summary()\n",
        "\n",
        "\n",
        "\n",
        "\n",
        "# Train your model\n",
        "model.fit(X_train, y_train, validation_data=(X_test, y_test), epochs=300, batch_size=16)\n",
        "#, sample_weight=mask_train\n"
      ]
    },
    {
      "cell_type": "code",
      "source": [
        "# Save the trained model\n",
        "\n",
        "# model.save(\"good_model_hands.h5\")\n",
        "\n",
        "model.save(\"good_model_hands.h5\")"
      ],
      "metadata": {
        "id": "HJ5H6QM3Mvg5"
      },
      "execution_count": null,
      "outputs": []
    },
    {
      "cell_type": "code",
      "source": [
        "from tensorflow.keras.models import load_model\n",
        "\n",
        "# Load the saved model\n",
        "loaded_model = load_model(\"my_model.h5\")"
      ],
      "metadata": {
        "id": "7x8y5k85M5NR"
      },
      "execution_count": null,
      "outputs": []
    },
    {
      "cell_type": "code",
      "execution_count": null,
      "metadata": {
        "colab": {
          "base_uri": "https://localhost:8080/",
          "height": 927
        },
        "id": "s0vo-qO-AXlr",
        "outputId": "e4691117-e90d-403c-b5e4-7ccfe98ce19d"
      },
      "outputs": [
        {
          "output_type": "display_data",
          "data": {
            "text/plain": [
              "<Figure size 640x480 with 1 Axes>"
            ],
            "image/png": "[encoded data removed]"
          },
          "metadata": {}
        },
        {
          "output_type": "display_data",
          "data": {
            "text/plain": [
              "<Figure size 640x480 with 1 Axes>"
            ],
            "image/png": "[encoded data removed]"
          },
          "metadata": {}
        }
      ],
      "source": [
        "import matplotlib.pyplot as plt\n",
        "\n",
        "# Get the training history\n",
        "history = model.history\n",
        "\n",
        "# Plot training and validation accuracy\n",
        "plt.plot(history.history['accuracy'])\n",
        "plt.plot(history.history['val_accuracy'])\n",
        "plt.title('Model Accuracy')\n",
        "plt.xlabel('Epoch')\n",
        "plt.ylabel('Accuracy')\n",
        "plt.legend(['Train', 'Validation'], loc='center right')\n",
        "plt.show()\n",
        "\n",
        "# Plot training and validation loss\n",
        "plt.plot(history.history['loss'])\n",
        "plt.plot(history.history['val_loss'])\n",
        "plt.title('Model Loss')\n",
        "plt.xlabel('Epoch')\n",
        "plt.ylabel('Loss')\n",
        "plt.legend(['Train', 'Validation'], loc='upper right')\n",
        "plt.show()"
      ]
    },
    {
      "cell_type": "code",
      "execution_count": null,
      "metadata": {
        "id": "5mI3aXXQEXIC"
      },
      "outputs": [],
      "source": [
        "score = model.evaluate(X_test, y_test)\n",
        "print('Test loss:', score[0])\n",
        "print('Test accuracy:', score[1])"
      ]
    },
    {
      "cell_type": "code",
      "execution_count": null,
      "metadata": {
        "colab": {
          "base_uri": "https://localhost:8080/"
        },
        "id": "HyK0Q0kqHkVw",
        "outputId": "b378fdfe-e57d-43db-c110-0a1ed1a90f1b"
      },
      "outputs": [
        {
          "name": "stdout",
          "output_type": "stream",
          "text": [
            "7/7 [==============================] - 5s 371ms/step\n"
          ]
        }
      ],
      "source": [
        "predictions = model.predict(features_val_reshaped)"
      ]
    },
    {
      "cell_type": "code",
      "execution_count": null,
      "metadata": {
        "colab": {
          "base_uri": "https://localhost:8080/",
          "height": 577
        },
        "id": "JfcLqMvjIbWG",
        "outputId": "6fc785a2-ac43-4f98-9f2a-83fbd5a49ced"
      },
      "outputs": [
        {
          "name": "stdout",
          "output_type": "stream",
          "text": [
            "7/7 [==============================] - 2s 206ms/step\n"
          ]
        },
        {
          "name": "stderr",
          "output_type": "stream",
          "text": [
            "/usr/local/lib/python3.10/dist-packages/sklearn/preprocessing/_label.py:155: DataConversionWarning: A column-vector y was passed when a 1d array was expected. Please change the shape of y to (n_samples, ), for example using ravel().\n",
            "  y = column_or_1d(y, warn=True)\n",
            "/usr/local/lib/python3.10/dist-packages/sklearn/preprocessing/_label.py:155: DataConversionWarning: A column-vector y was passed when a 1d array was expected. Please change the shape of y to (n_samples, ), for example using ravel().\n",
            "  y = column_or_1d(y, warn=True)\n"
          ]
        },
        {
          "data": {
            "image/png": "[encoded data removed]",
            "text/plain": [
              "<Figure size 640x480 with 2 Axes>"
            ]
          },
          "metadata": {},
          "output_type": "display_data"
        }
      ],
      "source": [
        "import seaborn as sns\n",
        "import matplotlib.pyplot as plt\n",
        "from sklearn.metrics import confusion_matrix\n",
        "from sklearn.preprocessing import LabelEncoder\n",
        "\n",
        "# Get predictions for the validation data\n",
        "predictions = model.predict(features_val_reshaped)\n",
        "predicted_classes = np.argmax(predictions, axis=1)\n",
        "\n",
        "# Inverse transform the label encoding\n",
        "true_classes = label_encoder.inverse_transform(labels_nb_hands_val)\n",
        "predicted_classes = label_encoder.inverse_transform(predicted_classes)\n",
        "\n",
        "# Create confusion matrix\n",
        "cm = confusion_matrix(true_classes, predicted_classes)\n",
        "\n",
        "# Plot confusion matrix\n",
        "sns.heatmap(cm, annot=True, cmap='Blues')\n",
        "plt.xlabel('Predicted Classes')\n",
        "plt.ylabel('True Classes')\n",
        "plt.title('Confusion Matrix')\n",
        "plt.show()\n"
      ]
    },
    {
      "cell_type": "code",
      "execution_count": null,
      "metadata": {
        "colab": {
          "base_uri": "https://localhost:8080/"
        },
        "id": "BGP3-lHe0lxW",
        "outputId": "463bb6cf-a512-43be-b5c1-6315c63a24f8"
      },
      "outputs": [
        {
          "name": "stdout",
          "output_type": "stream",
          "text": [
            "<class 'numpy.ndarray'>\n",
            "<class 'list'>\n",
            "<class 'numpy.ndarray'>\n",
            "<class 'list'>\n"
          ]
        }
      ],
      "source": [
        "print(type(features_train))\n",
        "print(type(labels_nb_hands_train))\n",
        "print(type(features_val))\n",
        "print(type(labels_nb_hands_val))"
      ]
    },
    {
      "cell_type": "code",
      "execution_count": null,
      "metadata": {
        "id": "tu96kBiEHjdW"
      },
      "outputs": [],
      "source": [
        "import pickle\n",
        "\n",
        "DATA_PATH = \"/content/drive/MyDrive/pickle\"\n",
        "outfile = open(DATA_PATH+'/annotation1.pickle','wb')\n",
        "pickle.dump(end_tab, outfile)\n",
        "outfile.close()"
      ]
    },
    {
      "cell_type": "markdown",
      "metadata": {
        "id": "ipOBzqCLO0J1"
      },
      "source": [
        "# - Autre projet - Création des fichiers .h5 (avec seulement les timestep annotés en fonction du label)\n",
        "Il reste encore plusieurs steps pour préparer correctement la création du fichier .h5\n",
        "\n",
        "\n"
      ]
    },
    {
      "cell_type": "markdown",
      "metadata": {
        "id": "xnKwP-YQsOLT"
      },
      "source": [
        "## Etapes de préparation\n",
        "\n",
        "1. On rajoute les 'interval_ID' qui font partie des vidéos traitées mais qui n'ont pas reçu de labels\n",
        "\n",
        "2. On formate les valeurs de début/fin des labels 'to_pickle_final' en fonction de la scène (= interval_ID) et non plus en fonction de la vidéo entière\n",
        "\n",
        "3. On crée un array (label_par_ID) qui met dans un même sous-array les labels qui possèdent le même 'interval_ID' (qui sont dans la même scène) car tous ces labels iront dans le même fichier .h5\n",
        "\n",
        "4. 1. optionnel : on crée un dictionnaire pour mapper les 'intervals_ID' à leur durée, d'après les fichiers originaux du PATS dataset\n",
        "  2. optionnel : on rajoute les key/value pour les speakers qui ne sont pas dans le dataset\n",
        "  3. nécessaire : on charge le dictionnaire (dict_ID_length.json) dans la variable \"dict_ID_length\"\n",
        "\n",
        "```\n",
        "key = 'interval_ID'\n",
        "value = length\n",
        "dict_ID_length['cmu0000028533'] = 151\n",
        "```\n",
        "\n",
        "\n"
      ]
    },
    {
      "cell_type": "code",
      "execution_count": null,
      "metadata": {
        "colab": {
          "base_uri": "https://localhost:8080/"
        },
        "id": "cA6Un86FePrk",
        "outputId": "28bf98a6-362d-424d-ddc9-e493c57205aa"
      },
      "outputs": [
        {
          "name": "stdout",
          "output_type": "stream",
          "text": [
            "2298\n"
          ]
        }
      ],
      "source": [
        "# 1. algo pour rajouter les intervals_ID qui sont dans les vidéos traitées mais qui n'ont pas reçu d'annotation\n",
        "\n",
        "\n",
        "# on crée deux listes\n",
        "#     - pour stocker les noms de vidéo déjà traitées\n",
        "#     - pour stocker les IDs déjà traités\n",
        "\n",
        "video_names = set(i[2] for i in to_pickle)\n",
        "video_names = list(video_names)\n",
        "\n",
        "IDs = set(i[8] for i in to_pickle_final)\n",
        "IDs = list(IDs)\n",
        "\n",
        "\n",
        "# pour chaque vidéo\n",
        "for i in video_names:\n",
        "  # pour chaque interval_ID dans la vidéo\n",
        "  for j in new_CSV_frames:\n",
        "    if i == j[3]:\n",
        "      # on regarde si l'interval a déjà été annoté\n",
        "      if j[2] not in IDs:\n",
        "        # si non, on l'ajoute au tableau to_pickle_final\n",
        "        to_pickle_final.append([j[0],j[1], 'None', 'None', 'None', 'None','None','None',j[2]])\n",
        "\n",
        "print(len(to_pickle_final))"
      ]
    },
    {
      "cell_type": "code",
      "execution_count": null,
      "metadata": {
        "id": "sUiZbDSB1tmU"
      },
      "outputs": [],
      "source": [
        "# 3. algo pour mettre les labels qui possèdent la même ID (qui sont dans la même scène) dans les mêmes tableaux :\n",
        "\n",
        "for i in range(len(to_pickle_final)):\n",
        "  tab_same_ID = []\n",
        "  tab_ID = []\n",
        "  dict_lst = {}\n",
        "\n",
        "  for tup in to_pickle_final:\n",
        "    if tup[8] in dict_lst:\n",
        "        dict_lst[tup[8]].append(tup)\n",
        "    else:\n",
        "        dict_lst[tup[8]] = [tup]\n",
        "\n",
        "label_par_ID = list(dict_lst.values())"
      ]
    },
    {
      "cell_type": "code",
      "execution_count": null,
      "metadata": {
        "id": "zG19YiGTZeQ0"
      },
      "outputs": [],
      "source": [
        "# 4. ici un algo qui crée/charge un dictionnaire qui map les 'interval_ID' (key) à leur durée (value) d'après les fichiers .h5 originels de PATS\n",
        "\n",
        "\n",
        "\n",
        "# partie nécessaire (si les speakers ont déjà été mappé) pour créer les fichiers .h5 avec une durée similaire à ceux du PATS dataset\n",
        "\n",
        "\n",
        "filename = 'dict_ID_length.json'\n",
        "# Open the JSON file and load its contents into a dictionary\n",
        "with open(filename, 'r') as file:\n",
        "    dict_ID_length = json.load(file)\n",
        "\n",
        "\n",
        "\n",
        "\n",
        "## partie optionnelle si on veut rajouter des speakers\n",
        "\n",
        "\n",
        "## on ajoute les librairies qui permettent de lire les fichiers.h5 du PATS dataset\n",
        "\n",
        "# %cd /content/drive/MyDrive\n",
        "# !pip install transformers\n",
        "# from data import HDF5\n",
        "# from data import Data\n",
        "# from tqdm import tqdm\n",
        "\n",
        "# !pip install tqdm\n",
        "# !pip install nltk\n",
        "# !pip install h5py\n",
        "# !pip install pandas joblib\n",
        "\n",
        "# # on lit le CSV\n",
        "# for i in CSV:\n",
        "#   # ici on met le speaker d'où l'on veut récupérer les 'interval_ID' (key) et la durée de la scène (value)\n",
        "#   if i[4] == 'lec_hist':\n",
        "\n",
        "#     # il faut avoir téléchargé tous les fichiers .h5 d'un même speaker dans un même dossier (à partir du dataset PATS)\n",
        "#     data, h5 = HDF5.load('pats/data/processed/lec_hist/'+i[3]+'.h5', key='pose/normalize')\n",
        "\n",
        "#     # on récupère la durée de la scène\n",
        "#     len_scene = len(data[()])\n",
        "\n",
        "#     # et on map la key ('interval_ID') à sa value (len_scene)\n",
        "#     dict_ID_length[i[3]]= len_scene\n",
        "\n",
        "# # et on sauvegarde\n",
        "# with open(filename, 'w') as file:\n",
        "#     json.dump(dict_ID_length, file, indent=4)\n"
      ]
    },
    {
      "cell_type": "markdown",
      "metadata": {
        "id": "9qaIrxjGr1zx"
      },
      "source": [
        "## Création des .h5 (---> no need anymore)\n",
        "\n",
        " **ATTENTION** à bien regarder le '**folderpath**'"
      ]
    },
    {
      "cell_type": "code",
      "execution_count": null,
      "metadata": {
        "colab": {
          "base_uri": "https://localhost:8080/"
        },
        "id": "gDku-hVZdJsA",
        "outputId": "5d10a476-2509-4e44-d96e-9a78c3ea275c"
      },
      "outputs": [
        {
          "name": "stdout",
          "output_type": "stream",
          "text": [
            "68\n"
          ]
        }
      ],
      "source": [
        "print(dict_ID_length['cmu0000029859'])"
      ]
    },
    {
      "cell_type": "code",
      "execution_count": null,
      "metadata": {
        "id": "pj1emCewj4k_"
      },
      "outputs": [],
      "source": [
        "import pandas as pd\n",
        "\n",
        "# voici la fonction qui transforme les tableaux avec les labels qui ont la même interval_ID en h5\n",
        "\n",
        "# input : [[LABEL],[LABEL],[LABEL]]\n",
        "\n",
        "# output : h5\n",
        "\n",
        "#           Movement_1 Movement_2           Handshape_1     Handshape_2      Nb_of_hands          Nb_of_strokes\n",
        "# 170       None       None                 None            None             None                 None\n",
        "# 171       EMERGE-IN  WRIST_ROTATION       PYRAMID-DOWN    FIST             ONE-HAND             ONE-STROKE-HOLD\n",
        "# ...\n",
        "\n",
        "\n",
        "\n",
        "\n",
        "folderpath = 'h5/ALL/'\n",
        "\n",
        "# chaque item dans label_par_ID est un 'interval_ID' différent\n",
        "for i in label_par_ID:\n",
        "\n",
        "  # on récupère le nom de l'interval_ID\n",
        "  ID = i[0][8]\n",
        "\n",
        "  # on va chercher la durée du la scène d'après le fichier original (stocké dans le dictionnaire 'dict_ID_length'\n",
        "  len_scene = dict_ID_length[ID]\n",
        "\n",
        "  # on instantie le dataframe pour créer le h5\n",
        "  df = pd.DataFrame(columns=['Movement_1', 'Movement_2', 'Handshape_1', 'Handshape_2', 'Nb_of_hands', 'Nb_of_strokes'], index=range(len_scene))\n",
        "\n",
        "\n",
        "  # pour chaque label différent dans le même interval_ID\n",
        "  for k in i:\n",
        "    # on remplit les colonnes en fonction du début/fin de chaque label\n",
        "    df.loc[k[0]:k[1]] = [k[2],k[3],k[4],k[5],k[6],k[7]]\n",
        "\n",
        "  # hors des labels, les autres timestep sont considérés comme étant 'None'\n",
        "  df = df.fillna('None')\n",
        "\n",
        "  # on transfère tout dans un fichier .h5 qui a pour nom l'interval_ID (comme dans le PATS dataset)\n",
        "  df['Movement_1'].to_hdf(folderpath + ID +'.h5', key='Movement_1', format='table', mode='w')\n",
        "  df['Movement_2'].to_hdf(folderpath + ID +'.h5', key='Movement_2', format='table', mode='a')\n",
        "  df['Handshape_1'].to_hdf(folderpath + ID +'.h5', key='Handshape_1', format='table', mode='a')\n",
        "  df['Handshape_2'].to_hdf(folderpath + ID +'.h5', key='Handshape_2', format='table', mode='a')\n",
        "  df['Nb_of_hands'].to_hdf(folderpath + ID +'.h5', key='Nb_of_hands', format='table', mode='a')\n",
        "  df['Nb_of_strokes'].to_hdf(folderpath + ID +'.h5', key='Nb_of_strokes', format='table', mode='a')"
      ]
    },
    {
      "cell_type": "code",
      "execution_count": null,
      "metadata": {
        "colab": {
          "base_uri": "https://localhost:8080/"
        },
        "id": "Oy_F3bX5x5LT",
        "outputId": "f34e0922-a66f-4f40-c3a7-7a7f97aee8fb"
      },
      "outputs": [
        {
          "name": "stdout",
          "output_type": "stream",
          "text": [
            "le nombre de fichier dans le dossier est de : 1201\n",
            "la taille de to_pickle_final est de : 1201\n"
          ]
        }
      ],
      "source": [
        "# petit algorithme pour vérifier que le nombre de fichier crée est bien égale à\n",
        "\n",
        "folderpath = \"h5/all/\"\n",
        "\n",
        "cpt = 0\n",
        "for file in glob.glob(folderpath+\"*.h5\"):\n",
        "  cpt = cpt +1\n",
        "print(\"le nombre de fichier dans le dossier est de : \" + str(cpt))\n",
        "\n",
        "print(\"la taille de label_par_ID est de : \" +  str(len(label_par_ID)))"
      ]
    },
    {
      "cell_type": "code",
      "execution_count": null,
      "metadata": {
        "id": "Jy7aEuahzwyv"
      },
      "outputs": [],
      "source": [
        "## petit algo pour checker si les durée des h5 crées sont bien les mêmes que dans le dataset original\n",
        "# (il faut donc tous les fichiers .h5 du PATS dataset disponible )\n",
        "\n",
        "# for i in label_par_ID:\n",
        "#   ID = i[0][8]\n",
        "#   data, h5 = HDF5.load('pats/data/processed/almaram/'+ID+'.h5', key='pose/normalize')\n",
        "#   len_a = len(data[()])\n",
        "\n",
        "#   read_data = pd.read_hdf('h5/almaram/'+ID+'.h5', 'IS')\n",
        "#   len_b = len(read_data)\n",
        "\n",
        "#   if len_a != len_b:"
      ]
    },
    {
      "cell_type": "markdown",
      "metadata": {
        "id": "fnbDZQR0tpOb"
      },
      "source": [
        "L'algo pour créer les fichiers .h5 peut s'arrêter là.\n",
        "\n",
        "\n",
        "\n",
        "Les algos qui suivent servent à extraire les 'pose' data des fichiers h5 et les ajouter à chaque label correspondant."
      ]
    }
  ],
  "metadata": {
    "colab": {
      "collapsed_sections": [
        "iirNEyRKq7RV",
        "szTHEswOpRN3",
        "NJJ4mGIXMyAz",
        "ckBDsb9Ey5eK",
        "xnKwP-YQsOLT",
        "9qaIrxjGr1zx"
      ],
      "provenance": [],
      "include_colab_link": true
    },
    "kernelspec": {
      "display_name": "Python 3",
      "name": "python3"
    },
    "language_info": {
      "name": "python"
    }
  },
  "nbformat": 4,
  "nbformat_minor": 0
}